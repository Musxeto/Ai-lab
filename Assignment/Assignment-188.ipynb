{
 "cells": [
  {
   "cell_type": "markdown",
   "id": "9093eaa5",
   "metadata": {},
   "source": [
    "# ASSIGNMENT - Final"
   ]
  },
  {
   "cell_type": "markdown",
   "id": "560a5404",
   "metadata": {},
   "source": [
    "#           AI LAB ASSIGNEMENT\n",
    "\n",
    "## FINAL ASSIGNMENT: SEARCHES & ML\n",
    "____________________________________\n",
    "###   NAME:     GHULAM MUSTAFA\n",
    "###   ROLL:     Fa-2022/BSCS/188\n",
    "###   SECTION:  E"
   ]
  },
  {
   "cell_type": "markdown",
   "id": "0dd28b85",
   "metadata": {},
   "source": [
    "____________"
   ]
  },
  {
   "cell_type": "markdown",
   "id": "404a7cd9",
   "metadata": {},
   "source": [
    "### TASK 1: Python Mid-Level Logic – Functional Programming\n",
    "Write a Python program that:\n",
    "- Accepts a list of words from the user.\n",
    "- Identifies all words that are palindromes and whose length is a prime number.\n",
    "- Use at least two functions: one to check for palindrome and one for prime length.\n",
    "- Display the final list and the total count of such words."
   ]
  },
  {
   "cell_type": "markdown",
   "id": "8a7c213e",
   "metadata": {},
   "source": [
    "____________"
   ]
  },
  {
   "cell_type": "markdown",
   "id": "cb059759",
   "metadata": {},
   "source": [
    "        IS PALINDROME Function"
   ]
  },
  {
   "cell_type": "code",
   "execution_count": 2,
   "id": "282a93e1",
   "metadata": {},
   "outputs": [],
   "source": [
    "def is_palindrome(word):\n",
    "    for i in range(int(len(word)/2)):\n",
    "        if(word[i] != word[len(word)-i-1]):\n",
    "            return False\n",
    "    return True"
   ]
  },
  {
   "cell_type": "markdown",
   "id": "9e9b2bd0",
   "metadata": {},
   "source": [
    "        IS ODD LENGTH Function"
   ]
  },
  {
   "cell_type": "code",
   "execution_count": 3,
   "id": "c51b96af",
   "metadata": {},
   "outputs": [],
   "source": [
    "def is_odd_length(word):\n",
    "    return int(len(word))%2 == 1"
   ]
  },
  {
   "cell_type": "markdown",
   "id": "44719d32",
   "metadata": {},
   "source": [
    "        USAGE"
   ]
  },
  {
   "cell_type": "code",
   "execution_count": 4,
   "id": "286d5d4d",
   "metadata": {},
   "outputs": [
    {
     "name": "stdout",
     "output_type": "stream",
     "text": [
      "List of Words:    ['gog', 'mom', 'dad', 'real', 'odd', 'bad', 'good', 'ooo', 'dood']\n",
      "Number of odd-length palindromes: 4\n"
     ]
    }
   ],
   "source": [
    "words = []\n",
    "count = 0\n",
    "\n",
    "while True:\n",
    "    word = input(\"Enter a word (or 'exit' to finish): \")\n",
    "    if word.lower() == 'exit':\n",
    "        break\n",
    "    words.append(word)\n",
    "\n",
    "for word in words:\n",
    "    if is_palindrome(word) and is_odd_length(word):\n",
    "        count+=1\n",
    "print(\"List of Words:   \",words)\n",
    "print(\"Number of odd-length palindromes:\", count)\n",
    "\n"
   ]
  },
  {
   "cell_type": "markdown",
   "id": "4b11936f",
   "metadata": {},
   "source": [
    "____________________________"
   ]
  },
  {
   "cell_type": "markdown",
   "id": "231ac747",
   "metadata": {},
   "source": [
    "### TASK 2: BFS Graph Traversal\n",
    "\n",
    "1. Represent the above graph using an adjacency list (dictionary) in Python.\n",
    "2. Implement a Breadth-First Search (BFS) function to traverse the graph starting from node\n",
    "3. Output the order in which nodes are visited.\n",
    "4. Indicate if node F is reachable from node A."
   ]
  },
  {
   "attachments": {
    "image.png": {
     "image/png": "[encoded data removed]"
    }
   },
   "cell_type": "markdown",
   "id": "9e1e79ac",
   "metadata": {},
   "source": [
    "![graph.png](attachment:image.png)"
   ]
  },
  {
   "cell_type": "markdown",
   "id": "5c1d22ca",
   "metadata": {},
   "source": [
    "__________"
   ]
  },
  {
   "cell_type": "markdown",
   "id": "3c2cc08d",
   "metadata": {},
   "source": [
    "We'll need deque for this beacuse we'll be usnig a queue"
   ]
  },
  {
   "cell_type": "code",
   "execution_count": 5,
   "id": "b079abce",
   "metadata": {},
   "outputs": [],
   "source": [
    "from collections import deque"
   ]
  },
  {
   "cell_type": "markdown",
   "id": "9f3ac00d",
   "metadata": {},
   "source": [
    "        BFS FUNCTION:"
   ]
  },
  {
   "cell_type": "code",
   "execution_count": 6,
   "id": "309d0b46",
   "metadata": {},
   "outputs": [],
   "source": [
    "def bfs(graph,start,end):\n",
    "    if start not in graph or end not in graph:\n",
    "        print(\"Specified Start or End is not in the graph\")\n",
    "        return\n",
    "    \n",
    "    queue = [start]\n",
    "    visited = set()\n",
    "    while queue:\n",
    "        node = queue.pop(0)\n",
    "        if node == end:\n",
    "            print(node, end=' ')\n",
    "            print(f\"Path found from {start} to {end}.\")\n",
    "            return\n",
    "        if node not in visited:\n",
    "            visited.add(node)\n",
    "            print(node, end='->')\n",
    "            for neighbor in graph[node]:\n",
    "                if neighbor not in visited and neighbor not in queue:\n",
    "                    queue.append(neighbor)\n",
    "    print(f\"No path found from {start} to {end}.\")\n"
   ]
  },
  {
   "cell_type": "markdown",
   "id": "d3870d1a",
   "metadata": {},
   "source": [
    "        GIVEN GRAPH CAN BE REPRESENTED AS:"
   ]
  },
  {
   "cell_type": "code",
   "execution_count": 7,
   "id": "36c80efe",
   "metadata": {},
   "outputs": [],
   "source": [
    "graph = {\n",
    "    'A': ['B', 'C'],\n",
    "    'B': ['A','D', 'E'],\n",
    "    'C': ['A', 'F'],\n",
    "    'D': ['B'],\n",
    "    'E': ['B', 'G'],\n",
    "    'F': ['C'],\n",
    "    'G': ['E']\n",
    "}"
   ]
  },
  {
   "cell_type": "markdown",
   "id": "71b5376f",
   "metadata": {},
   "source": [
    "        CALLING THE FUNCTION"
   ]
  },
  {
   "cell_type": "code",
   "execution_count": 8,
   "id": "4d23d767",
   "metadata": {},
   "outputs": [
    {
     "name": "stdout",
     "output_type": "stream",
     "text": [
      "A->B->C->D->E->F->G Path found from A to G.\n"
     ]
    }
   ],
   "source": [
    "bfs(graph, 'A', 'G')"
   ]
  },
  {
   "cell_type": "markdown",
   "id": "f1505b6d",
   "metadata": {},
   "source": [
    "        Indicate if node F is reachable from node A?"
   ]
  },
  {
   "cell_type": "markdown",
   "id": "75778f8a",
   "metadata": {},
   "source": [
    "###      YES"
   ]
  },
  {
   "cell_type": "markdown",
   "id": "161be527",
   "metadata": {},
   "source": [
    "____________"
   ]
  },
  {
   "cell_type": "markdown",
   "id": "c0f01560",
   "metadata": {},
   "source": [
    "### TASK 3: Data Preprocessing – Classification Dataset\n",
    "\n",
    "- Handle all missing values appropriately.\n",
    "- Encode categorical features.\n",
    "- Scale numerical features if needed.\n",
    "- Show the cleaned DataFrame (head or sample)."
   ]
  },
  {
   "cell_type": "markdown",
   "id": "65df0faf",
   "metadata": {},
   "source": [
    "____________"
   ]
  },
  {
   "cell_type": "code",
   "execution_count": 9,
   "id": "d380e0ea",
   "metadata": {},
   "outputs": [],
   "source": [
    "import pandas as pd\n",
    "import numpy as np"
   ]
  },
  {
   "cell_type": "markdown",
   "id": "5810b218",
   "metadata": {},
   "source": [
    "#### Given Dataset:"
   ]
  },
  {
   "cell_type": "code",
   "execution_count": 16,
   "id": "3e7587fa",
   "metadata": {},
   "outputs": [],
   "source": [
    "data = pd.read_csv('loan.csv')"
   ]
  },
  {
   "cell_type": "code",
   "execution_count": 20,
   "id": "3c562057",
   "metadata": {},
   "outputs": [
    {
     "data": {
      "text/html": [
       "<div>\n",
       "<style scoped>\n",
       "    .dataframe tbody tr th:only-of-type {\n",
       "        vertical-align: middle;\n",
       "    }\n",
       "\n",
       "    .dataframe tbody tr th {\n",
       "        vertical-align: top;\n",
       "    }\n",
       "\n",
       "    .dataframe thead th {\n",
       "        text-align: right;\n",
       "    }\n",
       "</style>\n",
       "<table border=\"1\" class=\"dataframe\">\n",
       "  <thead>\n",
       "    <tr style=\"text-align: right;\">\n",
       "      <th></th>\n",
       "      <th>Applicant_ID</th>\n",
       "      <th>Age</th>\n",
       "      <th>Gender</th>\n",
       "      <th>Income</th>\n",
       "      <th>Employment_Type</th>\n",
       "      <th>Credit_Score</th>\n",
       "      <th>Loan_Amount</th>\n",
       "      <th>Marital_Status</th>\n",
       "      <th>Property_Area</th>\n",
       "      <th>Loan_Approved</th>\n",
       "    </tr>\n",
       "  </thead>\n",
       "  <tbody>\n",
       "    <tr>\n",
       "      <th>0</th>\n",
       "      <td>A001</td>\n",
       "      <td>28.0</td>\n",
       "      <td>Male</td>\n",
       "      <td>50000.0</td>\n",
       "      <td>Salaried</td>\n",
       "      <td>700.0</td>\n",
       "      <td>200000.0</td>\n",
       "      <td>Married</td>\n",
       "      <td>Urban</td>\n",
       "      <td>Yes</td>\n",
       "    </tr>\n",
       "    <tr>\n",
       "      <th>1</th>\n",
       "      <td>A002</td>\n",
       "      <td>35.0</td>\n",
       "      <td>Female</td>\n",
       "      <td>60000.0</td>\n",
       "      <td>Self-Employed</td>\n",
       "      <td>NaN</td>\n",
       "      <td>250000.0</td>\n",
       "      <td>Single</td>\n",
       "      <td>Semiurban</td>\n",
       "      <td>No</td>\n",
       "    </tr>\n",
       "    <tr>\n",
       "      <th>2</th>\n",
       "      <td>A003</td>\n",
       "      <td>NaN</td>\n",
       "      <td>Male</td>\n",
       "      <td>45000.0</td>\n",
       "      <td>Salaried</td>\n",
       "      <td>690.0</td>\n",
       "      <td>NaN</td>\n",
       "      <td>Married</td>\n",
       "      <td>Rural</td>\n",
       "      <td>Yes</td>\n",
       "    </tr>\n",
       "    <tr>\n",
       "      <th>3</th>\n",
       "      <td>A004</td>\n",
       "      <td>40.0</td>\n",
       "      <td>Female</td>\n",
       "      <td>NaN</td>\n",
       "      <td>720</td>\n",
       "      <td>180000.0</td>\n",
       "      <td>NaN</td>\n",
       "      <td>Urban</td>\n",
       "      <td>No</td>\n",
       "      <td>NaN</td>\n",
       "    </tr>\n",
       "    <tr>\n",
       "      <th>4</th>\n",
       "      <td>A005</td>\n",
       "      <td>30.0</td>\n",
       "      <td>Male</td>\n",
       "      <td>48000.0</td>\n",
       "      <td>Salaried</td>\n",
       "      <td>710.0</td>\n",
       "      <td>190000.0</td>\n",
       "      <td>Single</td>\n",
       "      <td>NaN</td>\n",
       "      <td>Yes</td>\n",
       "    </tr>\n",
       "  </tbody>\n",
       "</table>\n",
       "</div>"
      ],
      "text/plain": [
       "  Applicant_ID   Age  Gender   Income Employment_Type  Credit_Score  \\\n",
       "0         A001  28.0    Male  50000.0        Salaried         700.0   \n",
       "1         A002  35.0  Female  60000.0   Self-Employed           NaN   \n",
       "2         A003   NaN    Male  45000.0        Salaried         690.0   \n",
       "3         A004  40.0  Female      NaN             720      180000.0   \n",
       "4         A005  30.0    Male  48000.0        Salaried         710.0   \n",
       "\n",
       "   Loan_Amount Marital_Status Property_Area Loan_Approved  \n",
       "0     200000.0        Married         Urban           Yes  \n",
       "1     250000.0         Single     Semiurban            No  \n",
       "2          NaN        Married         Rural           Yes  \n",
       "3          NaN          Urban            No           NaN  \n",
       "4     190000.0         Single           NaN           Yes  "
      ]
     },
     "execution_count": 20,
     "metadata": {},
     "output_type": "execute_result"
    }
   ],
   "source": [
    "data.head()"
   ]
  },
  {
   "cell_type": "code",
   "execution_count": null,
   "id": "2a4e1cff",
   "metadata": {},
   "outputs": [],
   "source": []
  }
 ],
 "metadata": {
  "kernelspec": {
   "display_name": "myenv",
   "language": "python",
   "name": "python3"
  },
  "language_info": {
   "codemirror_mode": {
    "name": "ipython",
    "version": 3
   },
   "file_extension": ".py",
   "mimetype": "text/x-python",
   "name": "python",
   "nbconvert_exporter": "python",
   "pygments_lexer": "ipython3",
   "version": "3.12.3"
  }
 },
 "nbformat": 4,
 "nbformat_minor": 5
}
