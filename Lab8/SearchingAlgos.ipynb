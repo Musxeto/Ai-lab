{
 "cells": [
  {
   "cell_type": "markdown",
   "id": "49de1435",
   "metadata": {},
   "source": [
    "## SEARCHING ALGORITHMS"
   ]
  },
  {
   "cell_type": "markdown",
   "id": "41d474d5",
   "metadata": {},
   "source": [
    "### Graph:"
   ]
  },
  {
   "cell_type": "code",
   "execution_count": 1,
   "id": "5b55d7f7",
   "metadata": {},
   "outputs": [],
   "source": [
    "tree = {\n",
    "        'A': ['B', 'C'],\n",
    "        'B': ['K','M'],\n",
    "        'C': ['O', 'F'],\n",
    "        'M': ['J'],\n",
    "        'O': ['T'],\n",
    "        'F': [],\n",
    "        'J': [],\n",
    "        'T': [],\n",
    "        'K': [],\n",
    "    }"
   ]
  },
  {
   "cell_type": "markdown",
   "id": "8b74adb3",
   "metadata": {},
   "source": [
    "## BFS FUNCTION:"
   ]
  },
  {
   "cell_type": "code",
   "execution_count": 2,
   "id": "0510fa61",
   "metadata": {},
   "outputs": [],
   "source": [
    "from collections import deque"
   ]
  },
  {
   "cell_type": "code",
   "execution_count": 3,
   "id": "4fe9b669",
   "metadata": {},
   "outputs": [],
   "source": [
    "def bfs(graph, start_node, goal_node):\n",
    "    queue = deque([[start_node]])\n",
    "    visited = set()\n",
    "    \n",
    "    while queue:\n",
    "        path = queue.popleft()\n",
    "        current_node = path[-1]\n",
    "        \n",
    "        if current_node == goal_node:\n",
    "            return path\n",
    "        \n",
    "        if current_node not in visited:\n",
    "            visited.add(current_node)\n",
    "            for neighbor in graph.get(current_node, []):\n",
    "                if neighbor not in visited:\n",
    "                    new_path = list(path)\n",
    "                    new_path.append(neighbor)\n",
    "                    queue.append(new_path)\n",
    "                    \n",
    "    return None\n"
   ]
  },
  {
   "cell_type": "code",
   "execution_count": 4,
   "id": "e83f9029",
   "metadata": {},
   "outputs": [
    {
     "name": "stdout",
     "output_type": "stream",
     "text": [
      "['A', 'B', 'M']\n"
     ]
    }
   ],
   "source": [
    "start = 'A'\n",
    "goal = 'M'\n",
    "\n",
    "path = bfs(tree, start, goal)\n",
    "if path is not None:\n",
    "    print(path)\n",
    "else:\n",
    "    print(\"PATH NOT FOUND\")\n"
   ]
  },
  {
   "cell_type": "code",
   "execution_count": 10,
   "id": "e1de18ed",
   "metadata": {},
   "outputs": [
    {
     "name": "stdout",
     "output_type": "stream",
     "text": [
      "PATH NOT FOUND\n"
     ]
    }
   ],
   "source": [
    "tree1 = {\n",
    "        '1': ['2','9'],\n",
    "        '2': ['5','4','8'],\n",
    "        '9': ['11','O'],\n",
    "        '5': [],\n",
    "        '4': ['3'],\n",
    "        '8': ['6'],\n",
    "        '3': [],\n",
    "        '11': ['12','81'],\n",
    "        '81': [],\n",
    "        '12': [],\n",
    "        '6': []\n",
    "    }\n",
    "\n",
    "start = '2'\n",
    "goal = '81'\n",
    "path = bfs(tree1, start, goal)\n",
    "if path is not None:\n",
    "    print(path)\n",
    "else:\n",
    "    print(\"PATH NOT FOUND\")"
   ]
  },
  {
   "cell_type": "code",
   "execution_count": 11,
   "id": "b69e58b4",
   "metadata": {},
   "outputs": [
    {
     "name": "stdout",
     "output_type": "stream",
     "text": [
      "['2', '4', '3']\n"
     ]
    }
   ],
   "source": [
    "start = '2'\n",
    "goal = '3'\n",
    "path = bfs(tree1, start, goal)\n",
    "if path is not None:\n",
    "    print(path)\n",
    "else:\n",
    "    print(\"PATH NOT FOUND\")"
   ]
  },
  {
   "cell_type": "markdown",
   "id": "6428d917",
   "metadata": {},
   "source": [
    "### DFS"
   ]
  },
  {
   "cell_type": "code",
   "execution_count": 56,
   "id": "b77e8b3b",
   "metadata": {},
   "outputs": [],
   "source": [
    "def DFS(graph, start_node, goal_node):\n",
    "    stack = [[start_node]]\n",
    "    visited = set()\n",
    "    \n",
    "    while stack:\n",
    "        path = stack.pop()\n",
    "        current_node = path[-1]\n",
    "        \n",
    "        if current_node == goal_node:\n",
    "            return path\n",
    "        \n",
    "        if current_node not in visited:\n",
    "            visited.add(current_node)\n",
    "            for neighbor in graph.get(current_node, []):\n",
    "                if neighbor not in visited:\n",
    "                    new_path = list(path)\n",
    "                    new_path.append(neighbor)\n",
    "                    stack.append(new_path)\n",
    "                    \n",
    "    return None\n"
   ]
  },
  {
   "cell_type": "code",
   "execution_count": 62,
   "id": "9e7a3c43",
   "metadata": {},
   "outputs": [
    {
     "data": {
      "text/plain": [
       "['A', 'B', 'M']"
      ]
     },
     "execution_count": 62,
     "metadata": {},
     "output_type": "execute_result"
    }
   ],
   "source": [
    "start = 'A'\n",
    "goal = 'M'\n",
    "\n",
    "path1 = DFS(tree, start, goal)\n",
    "path1\n"
   ]
  },
  {
   "cell_type": "code",
   "execution_count": null,
   "id": "3da61eb5",
   "metadata": {},
   "outputs": [],
   "source": []
  }
 ],
 "metadata": {
  "kernelspec": {
   "display_name": "myenv",
   "language": "python",
   "name": "python3"
  },
  "language_info": {
   "codemirror_mode": {
    "name": "ipython",
    "version": 3
   },
   "file_extension": ".py",
   "mimetype": "text/x-python",
   "name": "python",
   "nbconvert_exporter": "python",
   "pygments_lexer": "ipython3",
   "version": "3.12.3"
  }
 },
 "nbformat": 4,
 "nbformat_minor": 5
}
