{
 "cells": [
  {
   "cell_type": "markdown",
   "id": "455af8f1",
   "metadata": {},
   "source": [
    "#           AI LAB ASSIGNEMENT\n",
    "\n",
    "## HEURISTIC SEARCHES: A* & GREEDY BEST FIRST SEARCH\n",
    "____________________________________\n",
    "###   NAME:     GHULAM MUSTAFA\n",
    "###   ROLL:     FA22-BSCS-188\n",
    "###   SECTION:  E"
   ]
  },
  {
   "cell_type": "markdown",
   "id": "a189327a",
   "metadata": {},
   "source": [
    "____________________________________"
   ]
  },
  {
   "cell_type": "markdown",
   "id": "3b2e963a",
   "metadata": {},
   "source": [
    "### HELPER FUNCTIONS AND SETUP"
   ]
  },
  {
   "cell_type": "code",
   "execution_count": 3,
   "id": "3cc29143",
   "metadata": {},
   "outputs": [],
   "source": [
    "def build_path(came_from, current):\n",
    "    path = [current]  # start from goal\n",
    "\n",
    "    while current in came_from:\n",
    "        current = came_from[current]\n",
    "        path.append(current)\n",
    "    path.reverse()\n",
    "    return path\n"
   ]
  },
  {
   "cell_type": "code",
   "execution_count": 4,
   "id": "3b1d31d4",
   "metadata": {},
   "outputs": [],
   "source": [
    "def heuristic(a, b):\n",
    "    return abs(a[0] - b[0]) + abs(a[1] - b[1])"
   ]
  },
  {
   "cell_type": "code",
   "execution_count": 5,
   "id": "f71bda0b",
   "metadata": {},
   "outputs": [],
   "source": [
    "graph = {\n",
    "    (0, 0): [(0, 1), (1, 0)],\n",
    "    (0, 1): [(0, 0), (1, 1)],\n",
    "    (1, 0): [(0, 0), (1, 1)],\n",
    "    (1, 1): [(0, 1), (1, 0), (2, 1)],\n",
    "    (2, 1): [(1, 1)]\n",
    "}\n",
    "\n",
    "start = (0, 0)\n",
    "goal = (2, 1)"
   ]
  },
  {
   "cell_type": "markdown",
   "id": "86fa6281",
   "metadata": {},
   "source": [
    "____________________"
   ]
  },
  {
   "cell_type": "markdown",
   "id": "ea3c78d5",
   "metadata": {},
   "source": [
    "### A* IMPLEMENTATION"
   ]
  },
  {
   "cell_type": "code",
   "execution_count": 6,
   "id": "14493797",
   "metadata": {},
   "outputs": [],
   "source": [
    "import heapq  # for priority queue stuff\n",
    "\n",
    "def a_star(start, goal, graph):\n",
    "    open_set = []  # this is where we put nodes to explore\n",
    "    heapq.heappush(open_set, (0, start))  # push start with priority f = 0\n",
    "\n",
    "    came_from = {}  # to store the path we came from\n",
    "    g = {start: 0}  # cost from start to each node\n",
    "\n",
    "    while open_set:\n",
    "        priority, current = heapq.heappop(open_set)  # pick the node with lowest f\n",
    "\n",
    "        if current == goal:\n",
    "            return build_path(came_from, current)  # return the path once we reach the goal\n",
    "\n",
    "        for neighbor in graph[current]:  # check all neighbors\n",
    "            cost = g[current] + 1  # assuming every edge has cost 1\n",
    "\n",
    "            # if this path is better than before\n",
    "            if neighbor not in g or cost < g[neighbor]:\n",
    "                came_from[neighbor] = current  # remember how we got here\n",
    "                g[neighbor] = cost  # update cost\n",
    "                f = cost + heuristic(neighbor, goal)  # f = g + h\n",
    "                heapq.heappush(open_set, (f, neighbor))  # add to queue\n",
    "\n",
    "    return None  # goal not reachable\n"
   ]
  },
  {
   "cell_type": "code",
   "execution_count": 7,
   "id": "5f7073d6",
   "metadata": {},
   "outputs": [
    {
     "name": "stdout",
     "output_type": "stream",
     "text": [
      "A* path: [(0, 0), (0, 1), (1, 1), (2, 1)]\n"
     ]
    }
   ],
   "source": [
    "print(\"A* path:\", a_star(start, goal, graph))"
   ]
  },
  {
   "cell_type": "markdown",
   "id": "e8323487",
   "metadata": {},
   "source": [
    "_________________________"
   ]
  },
  {
   "cell_type": "markdown",
   "id": "7910c037",
   "metadata": {},
   "source": [
    "### GREEDY BEST FIRST SEARCH IMPLEMENTATION"
   ]
  },
  {
   "cell_type": "code",
   "execution_count": 8,
   "id": "7454dbfc",
   "metadata": {},
   "outputs": [],
   "source": [
    "def greedy(start, goal, graph):\n",
    "    open_set = []  # bro this is our priority queue \n",
    "    heapq.heappush(open_set, (heuristic(start, goal), start))  # start node goes in first, priority = h(n) only\n",
    "\n",
    "    came_from = {}  # keep track \n",
    "    visited = set()    # make sure we dont process the same node again \n",
    "\n",
    "    while open_set: \n",
    "        priority, current = heapq.heappop(open_set)  # take out the lowest h(n) \n",
    "\n",
    "        if current in visited:  \n",
    "            continue    # no need to visti it again\n",
    "\n",
    "        visited.add(current)  # mark current as visited if not visited\n",
    "\n",
    "        if current == goal:\n",
    "            return build_path(came_from, current)\n",
    "\n",
    "        for neighbor in graph[current]:  # check all neighbors of current\n",
    "            if neighbor not in visited:  # only unvisited\n",
    "                came_from[neighbor] = current  # letsay we came to neighbr from current...used later to rebuild path\n",
    "                heapq.heappush(open_set, (heuristic(neighbor, goal), neighbor))  # push neighbor in queue with h(n)\n",
    "\n",
    "    return None  # if we finish everything and never reach the goal, return nothing\n"
   ]
  },
  {
   "cell_type": "code",
   "execution_count": 12,
   "id": "b6b17b72",
   "metadata": {},
   "outputs": [
    {
     "name": "stdout",
     "output_type": "stream",
     "text": [
      "Greedy path: [(0, 0), (0, 1), (1, 1), (2, 1)]\n"
     ]
    }
   ],
   "source": [
    "print(\"Greedy path:\", greedy(start, goal, graph))"
   ]
  }
 ],
 "metadata": {
  "kernelspec": {
   "display_name": "myenv",
   "language": "python",
   "name": "python3"
  },
  "language_info": {
   "codemirror_mode": {
    "name": "ipython",
    "version": 3
   },
   "file_extension": ".py",
   "mimetype": "text/x-python",
   "name": "python",
   "nbconvert_exporter": "python",
   "pygments_lexer": "ipython3",
   "version": "3.12.3"
  }
 },
 "nbformat": 4,
 "nbformat_minor": 5
}
