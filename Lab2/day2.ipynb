{
 "cells": [
  {
   "cell_type": "markdown",
   "metadata": {},
   "source": [
    "## Arithematic Ops"
   ]
  },
  {
   "cell_type": "code",
   "execution_count": 6,
   "metadata": {},
   "outputs": [],
   "source": [
    "var1 = 45\n",
    "var2 = 23"
   ]
  },
  {
   "cell_type": "code",
   "execution_count": 7,
   "metadata": {},
   "outputs": [
    {
     "name": "stdout",
     "output_type": "stream",
     "text": [
      "2.5\n",
      "2\n",
      "1\n",
      "4\n"
     ]
    }
   ],
   "source": [
    "print(5/2)\n",
    "print(5//2)\n",
    "print(5%2)\n",
    "print(2**2)"
   ]
  },
  {
   "cell_type": "code",
   "execution_count": 8,
   "metadata": {},
   "outputs": [],
   "source": [
    "add_result = var1 + var2\n",
    "sub_result = var1 - var2\n",
    "mul = var1 * var2\n",
    "div = var1 / var2"
   ]
  },
  {
   "cell_type": "code",
   "execution_count": 9,
   "metadata": {},
   "outputs": [
    {
     "name": "stdout",
     "output_type": "stream",
     "text": [
      " Add Result = 68\n",
      " Sub Result = 22\n",
      " Multiplication Result = 1035\n",
      " Division Result = 1.9565217391304348\n"
     ]
    }
   ],
   "source": [
    "print(f' Add Result = {add_result}\\n Sub Result = {sub_result}\\n Multiplication Result = {mul}\\n Division Result = {div}')"
   ]
  },
  {
   "cell_type": "code",
   "execution_count": 10,
   "metadata": {},
   "outputs": [
    {
     "name": "stdout",
     "output_type": "stream",
     "text": [
      " Add Result = 5.0\n",
      " Sub Result = 1.0\n",
      " Multiplication Result = 6.0\n",
      " Division Result = 1.5\n"
     ]
    }
   ],
   "source": [
    "n = float(input(\"Enter First value: \"))\n",
    "m = float(input(\"Enter Second value: \"))\n",
    "\n",
    "print(f' Add Result = {n+m}\\n Sub Result = {n-m}\\n Multiplication Result = {n*m}\\n Division Result = {n/m}')"
   ]
  },
  {
   "cell_type": "code",
   "execution_count": 2,
   "metadata": {},
   "outputs": [
    {
     "name": "stdout",
     "output_type": "stream",
     "text": [
      "<class 'int'>\n"
     ]
    }
   ],
   "source": [
    "temp = int(input(\"input\"))\n",
    "print(type(temp))"
   ]
  },
  {
   "cell_type": "code",
   "execution_count": 6,
   "metadata": {},
   "outputs": [
    {
     "data": {
      "text/plain": [
       "int"
      ]
     },
     "execution_count": 6,
     "metadata": {},
     "output_type": "execute_result"
    }
   ],
   "source": [
    "name = 'lilmussiw'\n",
    "num = 4\n",
    "str2 = 'age'\n",
    "type(num)"
   ]
  },
  {
   "cell_type": "code",
   "execution_count": 9,
   "metadata": {},
   "outputs": [
    {
     "name": "stdout",
     "output_type": "stream",
     "text": [
      "lilmussiwlilmussiwlilmussiwlilmussiw\n"
     ]
    }
   ],
   "source": [
    "print(name * num)"
   ]
  },
  {
   "cell_type": "markdown",
   "metadata": {},
   "source": [
    "## CONDITIONAL OPS"
   ]
  },
  {
   "cell_type": "code",
   "execution_count": 15,
   "metadata": {},
   "outputs": [
    {
     "name": "stdout",
     "output_type": "stream",
     "text": [
      "5.0 Value is Smaller than 2.0\n"
     ]
    }
   ],
   "source": [
    "num1 = float(input(\"ENTER VALUE 1: \"))\n",
    "num2 = float(input(\"ENTER VALUE 2: \"))\n",
    "\n",
    "print(f\"{num1} Value is Smaller than {num2}\") if num1 > num2 else print(f\"{num1} Value is Greater than {num2}\")\n"
   ]
  },
  {
   "cell_type": "code",
   "execution_count": 19,
   "metadata": {},
   "outputs": [
    {
     "name": "stdout",
     "output_type": "stream",
     "text": [
      "69.0 is Positive\n"
     ]
    }
   ],
   "source": [
    "num = float(input(\"ENTER VALUE: \"))\n",
    "\n",
    "if num > 0: print(f\"{num} is Positive\")\n",
    "elif num < 0: print(f\"{num} is Negative\")\n",
    "else: print(f\"{num} is 0\")\n"
   ]
  },
  {
   "cell_type": "markdown",
   "metadata": {},
   "source": [
    "### and"
   ]
  },
  {
   "cell_type": "code",
   "execution_count": 24,
   "metadata": {},
   "outputs": [
    {
     "name": "stdout",
     "output_type": "stream",
     "text": [
      "False\n"
     ]
    }
   ],
   "source": [
    "a = float(input(\"ENTER VALUE 1: \"))\n",
    "b = float(input(\"ENTER VALUE 2: \"))\n",
    "result = (a>=b) and (a<=b)\n",
    "print(result)"
   ]
  },
  {
   "cell_type": "markdown",
   "metadata": {},
   "source": [
    "### or"
   ]
  },
  {
   "cell_type": "code",
   "execution_count": 25,
   "metadata": {},
   "outputs": [
    {
     "name": "stdout",
     "output_type": "stream",
     "text": [
      "True\n"
     ]
    }
   ],
   "source": [
    "a = float(input(\"ENTER VALUE 1: \"))\n",
    "b = float(input(\"ENTER VALUE 2: \"))\n",
    "result = (a>=b) or (a<=b)\n",
    "print(result)"
   ]
  },
  {
   "cell_type": "markdown",
   "metadata": {},
   "source": [
    "### not"
   ]
  },
  {
   "cell_type": "code",
   "execution_count": 26,
   "metadata": {},
   "outputs": [
    {
     "name": "stdout",
     "output_type": "stream",
     "text": [
      "False\n"
     ]
    }
   ],
   "source": [
    "a = float(input(\"ENTER VALUE 1: \"))\n",
    "b = float(input(\"ENTER VALUE 2: \"))\n",
    "result = not(a>=b)\n",
    "print(result)"
   ]
  },
  {
   "cell_type": "markdown",
   "metadata": {},
   "source": [
    "## IF - ELIF - ELSE"
   ]
  },
  {
   "cell_type": "code",
   "execution_count": 1,
   "metadata": {},
   "outputs": [
    {
     "name": "stdout",
     "output_type": "stream",
     "text": [
      "True\n"
     ]
    }
   ],
   "source": [
    "if(\"mustafa\"==\"mustafa\"):\n",
    "    print(\"True\")\n",
    "else:\n",
    "    print(\"False\")\n"
   ]
  },
  {
   "cell_type": "code",
   "execution_count": null,
   "metadata": {},
   "outputs": [
    {
     "ename": "SyntaxError",
     "evalue": "'break' outside loop (2762395633.py, line 10)",
     "output_type": "error",
     "traceback": [
      "  \u001b[36mCell\u001b[39m\u001b[36m \u001b[39m\u001b[32mIn[8]\u001b[39m\u001b[32m, line 10\u001b[39m\n\u001b[31m    \u001b[39m\u001b[31mbreak\u001b[39m\n    ^\n\u001b[31mSyntaxError\u001b[39m\u001b[31m:\u001b[39m 'break' outside loop\n"
     ]
    }
   ],
   "source": [
    "num = int(input(\"ENTER VALUE: \"))\n",
    "\n",
    "if (num > 0): \n",
    "    print(f\"{num} is Positive\")\n",
    "elif (num < 0):\n",
    "    # print(f\"{num} is Negative\")\n",
    "    pass\n",
    "else: \n",
    "    print(f\"{num} is 0\")\n",
    "\n",
    "print(\"cuming after condition\")"
   ]
  },
  {
   "cell_type": "code",
   "execution_count": null,
   "metadata": {},
   "outputs": [],
   "source": []
  }
 ],
 "metadata": {
  "kernelspec": {
   "display_name": "myenv",
   "language": "python",
   "name": "python3"
  },
  "language_info": {
   "codemirror_mode": {
    "name": "ipython",
    "version": 3
   },
   "file_extension": ".py",
   "mimetype": "text/x-python",
   "name": "python",
   "nbconvert_exporter": "python",
   "pygments_lexer": "ipython3",
   "version": "3.12.3"
  }
 },
 "nbformat": 4,
 "nbformat_minor": 2
}
