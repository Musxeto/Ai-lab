{
 "cells": [
  {
   "cell_type": "markdown",
   "metadata": {},
   "source": [
    "## Arithematic Ops"
   ]
  },
  {
   "cell_type": "code",
   "execution_count": 6,
   "metadata": {},
   "outputs": [],
   "source": [
    "var1 = 45\n",
    "var2 = 23"
   ]
  },
  {
   "cell_type": "code",
   "execution_count": 7,
   "metadata": {},
   "outputs": [
    {
     "name": "stdout",
     "output_type": "stream",
     "text": [
      "2.5\n",
      "2\n",
      "1\n",
      "4\n"
     ]
    }
   ],
   "source": [
    "print(5/2)\n",
    "print(5//2)\n",
    "print(5%2)\n",
    "print(2**2)"
   ]
  },
  {
   "cell_type": "code",
   "execution_count": 8,
   "metadata": {},
   "outputs": [],
   "source": [
    "add_result = var1 + var2\n",
    "sub_result = var1 - var2\n",
    "mul = var1 * var2\n",
    "div = var1 / var2"
   ]
  },
  {
   "cell_type": "code",
   "execution_count": 9,
   "metadata": {},
   "outputs": [
    {
     "name": "stdout",
     "output_type": "stream",
     "text": [
      " Add Result = 68\n",
      " Sub Result = 22\n",
      " Multiplication Result = 1035\n",
      " Division Result = 1.9565217391304348\n"
     ]
    }
   ],
   "source": [
    "print(f' Add Result = {add_result}\\n Sub Result = {sub_result}\\n Multiplication Result = {mul}\\n Division Result = {div}')"
   ]
  },
  {
   "cell_type": "code",
   "execution_count": 10,
   "metadata": {},
   "outputs": [
    {
     "name": "stdout",
     "output_type": "stream",
     "text": [
      " Add Result = 5.0\n",
      " Sub Result = 1.0\n",
      " Multiplication Result = 6.0\n",
      " Division Result = 1.5\n"
     ]
    }
   ],
   "source": [
    "n = float(input(\"Enter First value: \"))\n",
    "m = float(input(\"Enter Second value: \"))\n",
    "\n",
    "print(f' Add Result = {n+m}\\n Sub Result = {n-m}\\n Multiplication Result = {n*m}\\n Division Result = {n/m}')"
   ]
  },
  {
   "cell_type": "code",
   "execution_count": null,
   "metadata": {},
   "outputs": [],
   "source": []
  }
 ],
 "metadata": {
  "kernelspec": {
   "display_name": "myenv",
   "language": "python",
   "name": "python3"
  },
  "language_info": {
   "codemirror_mode": {
    "name": "ipython",
    "version": 3
   },
   "file_extension": ".py",
   "mimetype": "text/x-python",
   "name": "python",
   "nbconvert_exporter": "python",
   "pygments_lexer": "ipython3",
   "version": "3.12.3"
  }
 },
 "nbformat": 4,
 "nbformat_minor": 2
}
