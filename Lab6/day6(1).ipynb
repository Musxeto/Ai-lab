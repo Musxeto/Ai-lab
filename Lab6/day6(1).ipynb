{
 "cells": [
  {
   "cell_type": "markdown",
   "metadata": {},
   "source": [
    "## FUNCTIONS"
   ]
  },
  {
   "cell_type": "code",
   "execution_count": 8,
   "metadata": {},
   "outputs": [],
   "source": [
    "def lunCaculator(lunSize=None):\n",
    "    if lunSize is None:\n",
    "        lunSize = int(input(\"Enter LUN SIZE in inches: \"))\n",
    "    \n",
    "    if lunSize > 5:\n",
    "        print(\"BIG LUN VERY GOOD\")\n",
    "    elif lunSize == 5:\n",
    "        print(\"AVERAGE LUN SIZE\")\n",
    "    elif lunSize < 5:\n",
    "        print(\"CHOTI LULLI HAHHAAH\")\n"
   ]
  },
  {
   "cell_type": "code",
   "execution_count": 6,
   "metadata": {},
   "outputs": [
    {
     "name": "stdout",
     "output_type": "stream",
     "text": [
      "BIG LUN VERY GOOD\n"
     ]
    }
   ],
   "source": [
    "lunSize = int(input(\"ENter LUN SIZE in inches:\"))\n",
    "lunCaculator(lunSize)"
   ]
  },
  {
   "cell_type": "code",
   "execution_count": 9,
   "metadata": {},
   "outputs": [],
   "source": [
    "def checkNegative(num):\n",
    "    if(num<0):\n",
    "        return 1\n",
    "    else:\n",
    "        return 0"
   ]
  },
  {
   "cell_type": "code",
   "execution_count": 15,
   "metadata": {},
   "outputs": [],
   "source": [
    "def inputNegList(lis,n):\n",
    "    count = 0\n",
    "    while(count !=n):\n",
    "        a = int(input(\"Enter Neg Num:\"))\n",
    "        if(checkNegative(a)):\n",
    "            lis.append(a)\n",
    "            count+=1\n",
    "        else:\n",
    "            print(f\"{a} is not Negative. NOt Added\")\n"
   ]
  },
  {
   "cell_type": "code",
   "execution_count": 16,
   "metadata": {},
   "outputs": [
    {
     "name": "stdout",
     "output_type": "stream",
     "text": [
      "[-4, -2, -6, -7, -8]\n"
     ]
    }
   ],
   "source": [
    "l1 = []\n",
    "n=5\n",
    "inputNegList(l1,n)\n",
    "print(l1)"
   ]
  }
 ],
 "metadata": {
  "kernelspec": {
   "display_name": "myenv",
   "language": "python",
   "name": "python3"
  },
  "language_info": {
   "codemirror_mode": {
    "name": "ipython",
    "version": 3
   },
   "file_extension": ".py",
   "mimetype": "text/x-python",
   "name": "python",
   "nbconvert_exporter": "python",
   "pygments_lexer": "ipython3",
   "version": "3.12.3"
  }
 },
 "nbformat": 4,
 "nbformat_minor": 2
}
