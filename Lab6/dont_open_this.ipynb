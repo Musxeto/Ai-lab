{
 "cells": [
  {
   "cell_type": "code",
   "execution_count": 1,
   "id": "d722827e",
   "metadata": {},
   "outputs": [],
   "source": [
    "def lunCaculator(lunSize=None):\n",
    "    if lunSize is None:\n",
    "        lunSize = int(input(\"Enter LUN SIZE in inches: \"))\n",
    "    \n",
    "    if lunSize > 5:\n",
    "        print(\"BIG LUN VERY GOOD\")\n",
    "    elif lunSize == 5:\n",
    "        print(\"AVERAGE LUN SIZE\")\n",
    "    elif lunSize < 5:\n",
    "        print(\"CHOTI LULLI HAHHAAH\")\n"
   ]
  },
  {
   "cell_type": "code",
   "execution_count": 2,
   "id": "177fcd55",
   "metadata": {},
   "outputs": [
    {
     "name": "stdout",
     "output_type": "stream",
     "text": [
      "BIG LUN VERY GOOD\n"
     ]
    }
   ],
   "source": [
    "lunSize = int(input(\"ENter LUN SIZE in inches:\"))\n",
    "lunCaculator(lunSize)"
   ]
  },
  {
   "cell_type": "code",
   "execution_count": null,
   "id": "02494310",
   "metadata": {},
   "outputs": [],
   "source": []
  }
 ],
 "metadata": {
  "kernelspec": {
   "display_name": "myenv",
   "language": "python",
   "name": "python3"
  },
  "language_info": {
   "codemirror_mode": {
    "name": "ipython",
    "version": 3
   },
   "file_extension": ".py",
   "mimetype": "text/x-python",
   "name": "python",
   "nbconvert_exporter": "python",
   "pygments_lexer": "ipython3",
   "version": "3.12.3"
  }
 },
 "nbformat": 4,
 "nbformat_minor": 5
}
