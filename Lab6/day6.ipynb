{
 "cells": [
  {
   "cell_type": "markdown",
   "metadata": {},
   "source": [
    "# LOOPS:"
   ]
  },
  {
   "cell_type": "markdown",
   "metadata": {},
   "source": [
    "### FOR LOOP:"
   ]
  },
  {
   "cell_type": "code",
   "execution_count": 1,
   "metadata": {},
   "outputs": [
    {
     "name": "stdout",
     "output_type": "stream",
     "text": [
      "Engineer\n",
      "MTJ\n",
      "GHamdi\n",
      "Taqi\n",
      "Tariq Masood\n"
     ]
    }
   ],
   "source": [
    "mullahs = ['Engineer','MTJ','GHamdi','Taqi','Tariq Masood']\n",
    "\n",
    "for mullah in mullahs:\n",
    "    print(mullah)"
   ]
  },
  {
   "cell_type": "code",
   "execution_count": 7,
   "metadata": {},
   "outputs": [
    {
     "name": "stdout",
     "output_type": "stream",
     "text": [
      "Engineer\n",
      "MTJ\n",
      "GHamdi\n",
      "Taqi\n",
      "Tariq Masood\n"
     ]
    }
   ],
   "source": [
    "for i in range(5):\n",
    "    print(mullahs[i])"
   ]
  },
  {
   "cell_type": "code",
   "execution_count": 8,
   "metadata": {},
   "outputs": [
    {
     "name": "stdout",
     "output_type": "stream",
     "text": [
      "1\n",
      "2\n",
      "3\n",
      "4\n",
      "5\n",
      "6\n"
     ]
    }
   ],
   "source": [
    "numbers = [1,2,3,4,5,6]\n",
    "\n",
    "for number in numbers:\n",
    "    print(number)"
   ]
  },
  {
   "cell_type": "code",
   "execution_count": 9,
   "metadata": {},
   "outputs": [
    {
     "name": "stdout",
     "output_type": "stream",
     "text": [
      "apple\n",
      "orange\n",
      "banana\n",
      "grapes\n",
      "mango\n",
      "watermelon\n",
      "melon\n"
     ]
    }
   ],
   "source": [
    "fruits = ['apple','orange','banana','grapes','mango','watermelon','melon']\n",
    "\n",
    "for fruit in fruits:\n",
    "    print(fruit)"
   ]
  },
  {
   "cell_type": "code",
   "execution_count": 10,
   "metadata": {},
   "outputs": [
    {
     "name": "stdout",
     "output_type": "stream",
     "text": [
      "apple\n",
      "orange\n",
      "banana\n",
      "grapes\n",
      "mango\n",
      "watermelon\n",
      "melon\n",
      "melon\n"
     ]
    }
   ],
   "source": [
    "for fruit in fruits:\n",
    "    print(fruit)\n",
    "else:\n",
    "    print(fruit)"
   ]
  },
  {
   "cell_type": "code",
   "execution_count": 19,
   "metadata": {},
   "outputs": [
    {
     "name": "stdout",
     "output_type": "stream",
     "text": [
      "3 x 1 = 3\n",
      "----------\n",
      "3 x 2 = 6\n",
      "----------\n",
      "3 x 3 = 9\n",
      "----------\n",
      "3 x 4 = 12\n",
      "----------\n",
      "3 x 5 = 15\n",
      "----------\n",
      "3 x 6 = 18\n",
      "----------\n",
      "3 x 7 = 21\n",
      "----------\n",
      "3 x 8 = 24\n",
      "----------\n",
      "3 x 9 = 27\n",
      "----------\n",
      "3 x 10 = 30\n",
      "----------\n"
     ]
    }
   ],
   "source": [
    "num = int(input(\"ENTER A NUMBER: \"))\n",
    "\n",
    "for i in range(1,11):\n",
    "    print(f\"{num} x {i} = {num*i}\")\n",
    "    print(\"----------\")\n"
   ]
  },
  {
   "cell_type": "code",
   "execution_count": 14,
   "metadata": {},
   "outputs": [
    {
     "name": "stdout",
     "output_type": "stream",
     "text": [
      "3 x 1 = 3\n",
      "3 x 2 = 6\n",
      "3 x 3 = 9\n",
      "3 x 4 = 12\n",
      "3 x 5 = 15\n",
      "3 x 6 = 18\n",
      "3 x 7 = 21\n",
      "3 x 8 = 24\n",
      "3 x 9 = 27\n",
      "3 x 10 = 30\n"
     ]
    }
   ],
   "source": [
    "num = int(input(\"ENTER A NUMBER: \"))\n",
    "nums = [1,2,3,4,5,6,7,8,9,10]\n",
    "for i in nums:\n",
    "    print(f\"{num} x {i} = {num*i}\")"
   ]
  },
  {
   "cell_type": "code",
   "execution_count": 15,
   "metadata": {},
   "outputs": [
    {
     "name": "stdout",
     "output_type": "stream",
     "text": [
      "apple\n",
      "banana\n",
      "mango\n"
     ]
    }
   ],
   "source": [
    "for fruit in range(0,5,2):\n",
    "    print(fruits[fruit])"
   ]
  },
  {
   "cell_type": "code",
   "execution_count": 16,
   "metadata": {},
   "outputs": [
    {
     "name": "stdout",
     "output_type": "stream",
     "text": [
      "0\n",
      "2\n",
      "4\n",
      "6\n",
      "8\n"
     ]
    }
   ],
   "source": [
    "for i in range(0,10,2):\n",
    "    print(i)"
   ]
  },
  {
   "cell_type": "code",
   "execution_count": 49,
   "metadata": {},
   "outputs": [
    {
     "name": "stdout",
     "output_type": "stream",
     "text": [
      "\n",
      "\n",
      "*\n",
      "\n",
      "**\n",
      "\n",
      "***\n",
      "\n",
      "****\n",
      "\n",
      "*****\n",
      "\n"
     ]
    }
   ],
   "source": [
    "for i in range(6):\n",
    "    for j in range(i):\n",
    "        print('*', end='')\n",
    "    print(\"\\n\")"
   ]
  },
  {
   "cell_type": "code",
   "execution_count": 48,
   "metadata": {},
   "outputs": [
    {
     "name": "stdout",
     "output_type": "stream",
     "text": [
      "720\n"
     ]
    }
   ],
   "source": [
    "i = int(input(\"ENTER A NUMBER: \"))\n",
    "fact = i\n",
    "for j in range(1,i-1):\n",
    "    fact += fact*j\n",
    "\n",
    "print(fact)"
   ]
  },
  {
   "cell_type": "code",
   "execution_count": 33,
   "metadata": {},
   "outputs": [],
   "source": [
    "def fictorial(n):\n",
    "    if(n==0):\n",
    "        return 1\n",
    "    else:\n",
    "        return n * fictorial(n-1)"
   ]
  },
  {
   "cell_type": "code",
   "execution_count": 34,
   "metadata": {},
   "outputs": [
    {
     "name": "stdout",
     "output_type": "stream",
     "text": [
      "120\n"
     ]
    }
   ],
   "source": [
    "print(fictorial(5))"
   ]
  },
  {
   "cell_type": "code",
   "execution_count": 37,
   "metadata": {},
   "outputs": [
    {
     "name": "stdout",
     "output_type": "stream",
     "text": [
      "melon\n",
      "watermelon\n",
      "mango\n",
      "grapes\n",
      "banana\n",
      "orange\n",
      "apple\n"
     ]
    }
   ],
   "source": [
    "for fruit in range(len(fruits)-1,-1,-1):\n",
    "    print(fruits[fruit])"
   ]
  },
  {
   "cell_type": "code",
   "execution_count": 47,
   "metadata": {},
   "outputs": [
    {
     "name": "stdout",
     "output_type": "stream",
     "text": [
      "5*3\n",
      "20*3\n",
      "20*2\n",
      "60*2\n",
      "60*1\n",
      "120*1\n",
      "120\n"
     ]
    }
   ],
   "source": [
    "i = int(input(\"ENTER A NUMBER: \"))\n",
    "fact = i\n",
    "for j in range(i-2,0,-1):\n",
    "    print(f'{fact}*{j}')\n",
    "    fact += fact*j\n",
    "    print(f'{fact}*{j}')\n",
    "print(fact)"
   ]
  },
  {
   "cell_type": "code",
   "execution_count": 50,
   "metadata": {},
   "outputs": [
    {
     "name": "stdout",
     "output_type": "stream",
     "text": [
      "120\n"
     ]
    }
   ],
   "source": [
    "n = int(input(\"ENTER A NUMBER: \"))\n",
    "fact = 1\n",
    "for i in range(2,n+1):\n",
    "    fact = fact*i\n",
    "\n",
    "print(fact)"
   ]
  },
  {
   "cell_type": "code",
   "execution_count": 55,
   "metadata": {},
   "outputs": [
    {
     "name": "stdout",
     "output_type": "stream",
     "text": [
      "5 is odd\n",
      "4 is even\n",
      "32 is even\n",
      "5 is odd\n",
      "6456 is even\n",
      "534534 is even\n",
      "435345 is odd\n",
      "66565 is odd\n",
      "343 is odd\n",
      "4534534 is even\n",
      "34523 is odd\n"
     ]
    }
   ],
   "source": [
    "lis = []\n",
    "\n",
    "for i in range(11):\n",
    "    num = int(input(\"Enter A Number: \"))\n",
    "    lis.append(num)\n",
    "    if(num%2  == 0):\n",
    "        print(f'{lis[i]} is even')\n",
    "    else:\n",
    "        print(f\"{lis[i]} is odd\")"
   ]
  },
  {
   "cell_type": "code",
   "execution_count": null,
   "metadata": {},
   "outputs": [],
   "source": []
  }
 ],
 "metadata": {
  "kernelspec": {
   "display_name": "myenv",
   "language": "python",
   "name": "python3"
  },
  "language_info": {
   "codemirror_mode": {
    "name": "ipython",
    "version": 3
   },
   "file_extension": ".py",
   "mimetype": "text/x-python",
   "name": "python",
   "nbconvert_exporter": "python",
   "pygments_lexer": "ipython3",
   "version": "3.12.3"
  }
 },
 "nbformat": 4,
 "nbformat_minor": 2
}
