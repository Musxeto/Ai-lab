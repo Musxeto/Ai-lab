{
 "cells": [
  {
   "cell_type": "markdown",
   "id": "d6da5c84",
   "metadata": {},
   "source": [
    "# NEURAL NETWORKS"
   ]
  },
  {
   "cell_type": "markdown",
   "id": "5f0336cf",
   "metadata": {},
   "source": [
    "### LAB 12"
   ]
  },
  {
   "cell_type": "markdown",
   "id": "f2748ec0",
   "metadata": {},
   "source": [
    "___________"
   ]
  },
  {
   "cell_type": "markdown",
   "id": "c5791b07",
   "metadata": {},
   "source": []
  },
  {
   "cell_type": "markdown",
   "id": "945d049e",
   "metadata": {},
   "source": [
    "## Neural Networks: Notes\n",
    "\n",
    "Neural networks are computational models inspired by the human brain. They consist of interconnected layers of nodes (neurons) that process data and learn complex patterns.\n",
    "\n",
    "### Key Concepts\n",
    "- **Neuron:** Basic unit that receives input, applies a function, and passes output.\n",
    "- **Layers:**\n",
    "  - **Input Layer:** Receives raw data.\n",
    "  - **Hidden Layers:** Intermediate layers that learn features.\n",
    "  - **Output Layer:** Produces final prediction.\n",
    "- **Weights & Biases:** Parameters learned during training.\n",
    "- **Activation Function:** Decides the output of a neuron given an input.\n",
    "\n",
    "---\n",
    "\n",
    "## Common Activation Functions\n",
    "\n",
    "### 1. ReLU (Rectified Linear Unit)\n",
    "- Formula: $f(x) = ax(0, x)$\n",
    "- Most popular for hidden layers.\n",
    "- Pros: Simple, helps with vanishing gradient.\n",
    "- Cons: Can die if too many outputs are zero.\n",
    "\n",
    "### 2. Sigmoid\n",
    "- Formula: $f(x) = \frac{1}{1 + e^{-x}}$\n",
    "- Output: (0, 1)\n",
    "- Used for binary classification.\n",
    "\n",
    "### 3. Tanh (Hyperbolic Tangent)\n",
    "- Formula: $f(x) = \tanh(x)$\n",
    "- Output: (-1, 1)\n",
    "- Zero-centered, often preferred over sigmoid.\n",
    "\n",
    "### 4. Softmax\n",
    "- Used in output layer for multi-class classification.\n",
    "- Converts logits to probabilities that sum to 1.\n",
    "\n",
    "### 5. Linear (Identity)\n",
    "- Formula: $f(x) = x$\n",
    "- Used in output layer for regression tasks.\n",
    "\n",
    "---\n",
    "\n",
    "**Summary Table:**\n",
    "\n",
    "| Function  | Formula                | Output Range | Use Case                  |\n",
    "|-----------|------------------------|--------------|---------------------------|\n",
    "| ReLU      | $ax(0, x)$           | [0, ∞)       | Hidden layers             |\n",
    "| Sigmoid   | $\frac{1}{1+e^{-x}}$   | (0, 1)       | Binary classification     |\n",
    "| Tanh      | $\tanh(x)$             | (-1, 1)      | Hidden layers             |\n",
    "| Softmax   | $\frac{e^{x_i}}{um e^{x_j}}$ | (0, 1) | Multi-class classification|\n",
    "| Linear    | $x$                    | (-∞, ∞)      | Regression output         |"
   ]
  },
  {
   "cell_type": "markdown",
   "id": "bc39d770",
   "metadata": {},
   "source": [
    "_________\n",
    "\n",
    "### Types of Neural Networks\n",
    "- **ANN (Artificial Neural Network):**\n",
    "  - Basic neural network with input, hidden, and output layers. Used for tabular data, regression, and classification.\n",
    "- **CNN (Convolutional Neural Network):**\n",
    "  - Specialized for image and spatial data. Uses convolutional layers to extract features.\n",
    "- **R-CNN (Region-based CNN):**\n",
    "  - Used for object detection in images. Proposes regions and classifies them. Variants include Fast R-CNN, Faster R-CNN, and Mask R-CNN (adds segmentation).\n",
    "- **YOLO (You Only Look Once):**\n",
    "  - Real-time object detection system. Processes the entire image in one pass for fast detection.\n",
    "- **Deep Learning:**\n",
    "  - General term for neural networks with many layers (deep architectures). Enables learning of complex patterns.\n",
    "- **Transformers:**\n",
    "  - Sequence models using self-attention. State-of-the-art for NLP tasks (e.g., BERT, GPT).\n",
    "- **ViT (Vision Transformer):**\n",
    "  - Applies transformer architecture to image data. Splits images into patches and processes them like sequences.\n",
    "\n",
    "---\n"
   ]
  }
 ],
 "metadata": {
  "language_info": {
   "name": "python"
  }
 },
 "nbformat": 4,
 "nbformat_minor": 5
}
