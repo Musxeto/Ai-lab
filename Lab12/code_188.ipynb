{
 "cells": [
  {
   "cell_type": "code",
   "execution_count": 1,
   "id": "1d6659be",
   "metadata": {},
   "outputs": [
    {
     "name": "stdout",
     "output_type": "stream",
     "text": [
      "Trapezoidal Rule: 0.4385350535, Error: 0.0002895196\n",
      "Simpson's 1/3 Rule: 0.4388252490, Error: 0.0000006759\n",
      "Simpson's 3/8 Rule: 0.4388261082, Error: 0.0000015351\n",
      "Exact Value: 0.4388245731\n"
     ]
    }
   ],
   "source": [
    "import math\n",
    "\n",
    "# Function to integrate\n",
    "def f(x):\n",
    "    return math.atan(x)\n",
    "\n",
    "# Integration parameters\n",
    "a = 0\n",
    "b = 1\n",
    "n = 12\n",
    "h = (b - a) / n\n",
    "x_values = [a + i * h for i in range(n + 1)]\n",
    "y_values = [f(x) for x in x_values]\n",
    "\n",
    "# Trapezoidal Rule\n",
    "trap_sum = y_values[0] + y_values[-1] + 2 * sum(y_values[1:-1])\n",
    "trap_result = (h / 2) * trap_sum\n",
    "\n",
    "# Simpson's 1/3 Rule\n",
    "simp13_sum = y_values[0] + y_values[-1]\n",
    "simp13_sum += 4 * sum(y_values[i] for i in range(1, n, 2))\n",
    "simp13_sum += 2 * sum(y_values[i] for i in range(2, n-1, 2))\n",
    "simp13_result = (h / 3) * simp13_sum\n",
    "\n",
    "# Simpson's 3/8 Rule\n",
    "simp38_sum = y_values[0] + y_values[-1]\n",
    "simp38_sum += 3 * sum(y_values[i] for i in range(1, n) if i % 3 != 0)\n",
    "simp38_sum += 2 * sum(y_values[i] for i in range(3, n, 3))\n",
    "simp38_result = (3 * h / 8) * simp38_sum\n",
    "\n",
    "# Exact value\n",
    "exact_value = (math.pi / 4) - (0.5 * math.log(2))\n",
    "\n",
    "# Absolute errors\n",
    "trap_error = abs(exact_value - trap_result)\n",
    "simp13_error = abs(exact_value - simp13_result)\n",
    "simp38_error = abs(exact_value - simp38_result)\n",
    "\n",
    "# Results\n",
    "print(f\"Trapezoidal Rule: {trap_result:.10f}, Error: {trap_error:.10f}\")\n",
    "print(f\"Simpson's 1/3 Rule: {simp13_result:.10f}, Error: {simp13_error:.10f}\")\n",
    "print(f\"Simpson's 3/8 Rule: {simp38_result:.10f}, Error: {simp38_error:.10f}\")\n",
    "print(f\"Exact Value: {exact_value:.10f}\")\n"
   ]
  }
 ],
 "metadata": {
  "kernelspec": {
   "display_name": "myenv",
   "language": "python",
   "name": "python3"
  },
  "language_info": {
   "codemirror_mode": {
    "name": "ipython",
    "version": 3
   },
   "file_extension": ".py",
   "mimetype": "text/x-python",
   "name": "python",
   "nbconvert_exporter": "python",
   "pygments_lexer": "ipython3",
   "version": "3.12.3"
  }
 },
 "nbformat": 4,
 "nbformat_minor": 5
}
