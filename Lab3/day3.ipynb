{
 "cells": [
  {
   "cell_type": "markdown",
   "metadata": {},
   "source": [
    "#  Collective Data Types"
   ]
  },
  {
   "cell_type": "markdown",
   "metadata": {},
   "source": [
    "- List\n",
    "- Strings\n",
    "- Tuple\n",
    "- Sets\n",
    "- Dictionaries"
   ]
  },
  {
   "cell_type": "markdown",
   "metadata": {},
   "source": [
    "## List\n",
    "\n",
    "- Changeable / Mutable\n",
    "- Ordered\n",
    "- FLexible Size\n",
    "- Can contain MUltiple Data Types"
   ]
  },
  {
   "cell_type": "code",
   "execution_count": 17,
   "metadata": {},
   "outputs": [
    {
     "name": "stdout",
     "output_type": "stream",
     "text": [
      "['khajoor', 'rooh afzah', 'pakoray', 'samosay', 'dahi bhallay', 'fruit chat', 'cream chat', 'channa chat']\n",
      "<class 'list'>\n"
     ]
    }
   ],
   "source": [
    "list1 = ['khajoor','rooh afzah','pakoray','samosay','dahi bhallay','fruit chat','cream chat','channa chat']\n",
    "print(list1)\n",
    "print(type(list1))"
   ]
  },
  {
   "cell_type": "code",
   "execution_count": 18,
   "metadata": {},
   "outputs": [
    {
     "data": {
      "text/plain": [
       "'khajoor'"
      ]
     },
     "execution_count": 18,
     "metadata": {},
     "output_type": "execute_result"
    }
   ],
   "source": [
    "list1[0]\n"
   ]
  },
  {
   "cell_type": "code",
   "execution_count": 19,
   "metadata": {},
   "outputs": [
    {
     "data": {
      "text/plain": [
       "['nuggets', 'fries', 'tang']"
      ]
     },
     "execution_count": 19,
     "metadata": {},
     "output_type": "execute_result"
    }
   ],
   "source": [
    "list[-1]"
   ]
  },
  {
   "cell_type": "code",
   "execution_count": 20,
   "metadata": {},
   "outputs": [],
   "source": [
    "list1.append(['nuggets','fries','tang'])"
   ]
  },
  {
   "cell_type": "markdown",
   "metadata": {},
   "source": [
    "### Multi-Dimensional Arrays"
   ]
  },
  {
   "cell_type": "code",
   "execution_count": 21,
   "metadata": {},
   "outputs": [
    {
     "data": {
      "text/plain": [
       "['khajoor',\n",
       " 'rooh afzah',\n",
       " 'pakoray',\n",
       " 'samosay',\n",
       " 'dahi bhallay',\n",
       " 'fruit chat',\n",
       " 'cream chat',\n",
       " 'channa chat',\n",
       " ['nuggets', 'fries', 'tang']]"
      ]
     },
     "execution_count": 21,
     "metadata": {},
     "output_type": "execute_result"
    }
   ],
   "source": [
    "list1"
   ]
  },
  {
   "cell_type": "code",
   "execution_count": 23,
   "metadata": {},
   "outputs": [
    {
     "data": {
      "text/plain": [
       "'tang'"
      ]
     },
     "execution_count": 23,
     "metadata": {},
     "output_type": "execute_result"
    }
   ],
   "source": [
    "list1[-1][2]"
   ]
  },
  {
   "cell_type": "markdown",
   "metadata": {},
   "source": [
    "# TUPLES"
   ]
  },
  {
   "cell_type": "code",
   "execution_count": null,
   "metadata": {},
   "outputs": [],
   "source": [
    "tuple1 = ('cnic','gender','race') "
   ]
  },
  {
   "cell_type": "markdown",
   "metadata": {},
   "source": [
    "## CONCATENATE LISTS"
   ]
  },
  {
   "cell_type": "code",
   "execution_count": 25,
   "metadata": {},
   "outputs": [],
   "source": [
    "list2 = ['mango','apple','orange','banana']"
   ]
  },
  {
   "cell_type": "code",
   "execution_count": 26,
   "metadata": {},
   "outputs": [
    {
     "data": {
      "text/plain": [
       "['khajoor',\n",
       " 'rooh afzah',\n",
       " 'pakoray',\n",
       " 'samosay',\n",
       " 'dahi bhallay',\n",
       " 'fruit chat',\n",
       " 'cream chat',\n",
       " 'channa chat',\n",
       " ['nuggets', 'fries', 'tang'],\n",
       " 'mango',\n",
       " 'apple',\n",
       " 'orange',\n",
       " 'banana']"
      ]
     },
     "execution_count": 26,
     "metadata": {},
     "output_type": "execute_result"
    }
   ],
   "source": [
    "list1 + list2"
   ]
  },
  {
   "cell_type": "code",
   "execution_count": 29,
   "metadata": {},
   "outputs": [],
   "source": [
    "aftaari = list1 + list2"
   ]
  },
  {
   "cell_type": "markdown",
   "metadata": {},
   "source": [
    "#### Example Lists"
   ]
  },
  {
   "cell_type": "code",
   "execution_count": 32,
   "metadata": {},
   "outputs": [],
   "source": [
    "myInfo = ['Mustafa',19.9,\"5'4\",'BSCS','unemployed','mustafamalikawan786@gmail.com',+923244164341, ['AI','CN','NC','DIP','Game']]"
   ]
  },
  {
   "cell_type": "code",
   "execution_count": 33,
   "metadata": {},
   "outputs": [
    {
     "name": "stdout",
     "output_type": "stream",
     "text": [
      "Mustafa\n",
      "19.9\n",
      "5'4\n",
      "BSCS\n",
      "unemployed\n",
      "mustafamalikawan786@gmail.com\n",
      "923244164341\n",
      "['AI', 'CN', 'NC', 'DIP', 'Game']\n"
     ]
    }
   ],
   "source": [
    "for info in myInfo:\n",
    "    print(info)"
   ]
  },
  {
   "cell_type": "code",
   "execution_count": 35,
   "metadata": {},
   "outputs": [
    {
     "name": "stdout",
     "output_type": "stream",
     "text": [
      "khajoor\n",
      "rooh afzah\n",
      "pakoray\n",
      "samosay\n",
      "dahi bhallay\n",
      "fruit chat\n",
      "cream chat\n",
      "channa chat\n",
      "['nuggets', 'fries', 'tang']\n",
      "mango\n",
      "apple\n",
      "orange\n",
      "banana\n"
     ]
    }
   ],
   "source": [
    "for khaana in aftaari:\n",
    "    print (khaana)"
   ]
  },
  {
   "cell_type": "markdown",
   "metadata": {},
   "source": [
    "## Sliing"
   ]
  },
  {
   "cell_type": "markdown",
   "metadata": {},
   "source": [
    "list [ start : stop : step]"
   ]
  },
  {
   "cell_type": "markdown",
   "metadata": {},
   "source": [
    " - start include\n",
    " - stop exclude\n",
    " - steps"
   ]
  },
  {
   "cell_type": "markdown",
   "metadata": {},
   "source": []
  },
  {
   "cell_type": "code",
   "execution_count": 37,
   "metadata": {},
   "outputs": [
    {
     "name": "stdout",
     "output_type": "stream",
     "text": [
      "['samosay', 'dahi bhallay']\n"
     ]
    }
   ],
   "source": [
    "print(list1[3:5])"
   ]
  },
  {
   "cell_type": "code",
   "execution_count": 45,
   "metadata": {},
   "outputs": [
    {
     "data": {
      "text/plain": [
       "['rooh afzah',\n",
       " 'pakoray',\n",
       " 'samosay',\n",
       " 'dahi bhallay',\n",
       " 'fruit chat',\n",
       " 'cream chat',\n",
       " 'channa chat',\n",
       " ['nuggets', 'fries', 'tang'],\n",
       " 'mango',\n",
       " 'apple',\n",
       " 'orange',\n",
       " 'banana']"
      ]
     },
     "execution_count": 45,
     "metadata": {},
     "output_type": "execute_result"
    }
   ],
   "source": [
    "aftaari[1::1]"
   ]
  },
  {
   "cell_type": "code",
   "execution_count": 46,
   "metadata": {},
   "outputs": [
    {
     "data": {
      "text/plain": [
       "['samosay', 'dahi bhallay', 'fruit chat']"
      ]
     },
     "execution_count": 46,
     "metadata": {},
     "output_type": "execute_result"
    }
   ],
   "source": [
    "aftaari[3:6:1]"
   ]
  },
  {
   "cell_type": "code",
   "execution_count": 47,
   "metadata": {},
   "outputs": [
    {
     "data": {
      "text/plain": [
       "['samosay', 'dahi bhallay', 'fruit chat']"
      ]
     },
     "execution_count": 47,
     "metadata": {},
     "output_type": "execute_result"
    }
   ],
   "source": [
    "aftaari[3:6]"
   ]
  },
  {
   "cell_type": "code",
   "execution_count": 48,
   "metadata": {},
   "outputs": [
    {
     "data": {
      "text/plain": [
       "['khajoor',\n",
       " 'rooh afzah',\n",
       " 'pakoray',\n",
       " 'samosay',\n",
       " 'dahi bhallay',\n",
       " 'fruit chat',\n",
       " 'cream chat',\n",
       " 'channa chat',\n",
       " ['nuggets', 'fries', 'tang'],\n",
       " 'mango',\n",
       " 'apple',\n",
       " 'orange']"
      ]
     },
     "execution_count": 48,
     "metadata": {},
     "output_type": "execute_result"
    }
   ],
   "source": [
    "aftaari[:-1]"
   ]
  },
  {
   "cell_type": "code",
   "execution_count": 50,
   "metadata": {},
   "outputs": [
    {
     "data": {
      "text/plain": [
       "['khajoor',\n",
       " 'rooh afzah',\n",
       " 'pakoray',\n",
       " 'samosay',\n",
       " 'dahi bhallay',\n",
       " 'fruit chat',\n",
       " 'cream chat',\n",
       " 'channa chat',\n",
       " ['nuggets', 'fries', 'tang'],\n",
       " 'mango',\n",
       " 'apple',\n",
       " 'orange',\n",
       " 'banana']"
      ]
     },
     "execution_count": 50,
     "metadata": {},
     "output_type": "execute_result"
    }
   ],
   "source": [
    "aftaari[:]"
   ]
  },
  {
   "cell_type": "code",
   "execution_count": 51,
   "metadata": {},
   "outputs": [
    {
     "data": {
      "text/plain": [
       "False"
      ]
     },
     "execution_count": 51,
     "metadata": {},
     "output_type": "execute_result"
    }
   ],
   "source": [
    "list1.__contains__(\"nuggets\")"
   ]
  },
  {
   "cell_type": "code",
   "execution_count": 53,
   "metadata": {},
   "outputs": [
    {
     "data": {
      "text/plain": [
       "True"
      ]
     },
     "execution_count": 53,
     "metadata": {},
     "output_type": "execute_result"
    }
   ],
   "source": [
    "\"channa chat\" in aftaari"
   ]
  },
  {
   "cell_type": "code",
   "execution_count": 63,
   "metadata": {},
   "outputs": [
    {
     "name": "stdout",
     "output_type": "stream",
     "text": [
      "ALLAH HUMMA INNI LAkA SUMTU \n"
     ]
    }
   ],
   "source": [
    "if (\"khajoor\" in aftaari):\n",
    "    print(\"ALLAH HUMMA INNI LAkA SUMTU \")"
   ]
  },
  {
   "cell_type": "code",
   "execution_count": 61,
   "metadata": {},
   "outputs": [],
   "source": [
    "list1[3] = \"Spaghetti Samosa\""
   ]
  },
  {
   "cell_type": "code",
   "execution_count": 62,
   "metadata": {},
   "outputs": [
    {
     "data": {
      "text/plain": [
       "'Spaghetti Samosa'"
      ]
     },
     "execution_count": 62,
     "metadata": {},
     "output_type": "execute_result"
    }
   ],
   "source": [
    "list1[3]"
   ]
  },
  {
   "cell_type": "code",
   "execution_count": 64,
   "metadata": {},
   "outputs": [],
   "source": [
    "aftaari.append(\"doodh soda\")"
   ]
  },
  {
   "cell_type": "code",
   "execution_count": 65,
   "metadata": {},
   "outputs": [
    {
     "data": {
      "text/plain": [
       "'doodh soda'"
      ]
     },
     "execution_count": 65,
     "metadata": {},
     "output_type": "execute_result"
    }
   ],
   "source": [
    "aftaari[-1]"
   ]
  },
  {
   "cell_type": "code",
   "execution_count": 66,
   "metadata": {},
   "outputs": [],
   "source": [
    "aftaari.append([\"ketchup\",\"chutni\",\"dahi\",\"mayo\",\"meethi chutni\"])"
   ]
  },
  {
   "cell_type": "code",
   "execution_count": 67,
   "metadata": {},
   "outputs": [
    {
     "data": {
      "text/plain": [
       "['khajoor',\n",
       " 'rooh afzah',\n",
       " 'pakoray',\n",
       " 'samosay',\n",
       " 'dahi bhallay',\n",
       " 'fruit chat',\n",
       " 'cream chat',\n",
       " 'channa chat',\n",
       " ['nuggets', 'fries', 'tang'],\n",
       " 'mango',\n",
       " 'apple',\n",
       " 'orange',\n",
       " 'banana',\n",
       " 'doodh soda',\n",
       " ['ketchup', 'chutni', 'dahi', 'mayo', 'meethi chutni']]"
      ]
     },
     "execution_count": 67,
     "metadata": {},
     "output_type": "execute_result"
    }
   ],
   "source": [
    "aftaari"
   ]
  },
  {
   "cell_type": "markdown",
   "metadata": {},
   "source": [
    "### Lit Insertions:"
   ]
  },
  {
   "cell_type": "markdown",
   "metadata": {},
   "source": [
    "1.  .appent('value')\n",
    "2.  .extend(value/list)\n",
    "3.  list1 + list2\n",
    "4.  .insert(index,value)"
   ]
  },
  {
   "cell_type": "code",
   "execution_count": 71,
   "metadata": {},
   "outputs": [],
   "source": [
    "list3 = [1,2,3]"
   ]
  },
  {
   "cell_type": "code",
   "execution_count": 72,
   "metadata": {},
   "outputs": [],
   "source": [
    "list3.extend(list1)"
   ]
  },
  {
   "cell_type": "code",
   "execution_count": 77,
   "metadata": {},
   "outputs": [],
   "source": [
    "list3.extend(\"n-word\")"
   ]
  },
  {
   "cell_type": "code",
   "execution_count": 78,
   "metadata": {},
   "outputs": [],
   "source": [
    "list3.append(\"no-way-ni\")"
   ]
  },
  {
   "cell_type": "code",
   "execution_count": null,
   "metadata": {},
   "outputs": [
    {
     "name": "stdout",
     "output_type": "stream",
     "text": [
      "[1, 2, 3, 'khajoor', 'rooh afzah', 'pakoray', 'Spaghetti Samosa', 'dahi bhallay', 'fruit chat', 'cream chat', 'channa chat', ['nuggets', 'fries', 'tang'], 'n', '-', 'w', 'o', 'r', 'd', 'n', '-', 'w', 'o', 'r', 'd', 'no-way-ni']\n"
     ]
    }
   ],
   "source": [
    "print(list3)"
   ]
  },
  {
   "cell_type": "code",
   "execution_count": 81,
   "metadata": {},
   "outputs": [],
   "source": [
    "list3.insert(2,\"roti\")"
   ]
  },
  {
   "cell_type": "code",
   "execution_count": 82,
   "metadata": {},
   "outputs": [
    {
     "data": {
      "text/plain": [
       "[1,\n",
       " 2,\n",
       " 'roti',\n",
       " 3,\n",
       " 'khajoor',\n",
       " 'rooh afzah',\n",
       " 'pakoray',\n",
       " 'Spaghetti Samosa',\n",
       " 'dahi bhallay',\n",
       " 'fruit chat',\n",
       " 'cream chat',\n",
       " 'channa chat',\n",
       " ['nuggets', 'fries', 'tang'],\n",
       " 'n',\n",
       " '-',\n",
       " 'w',\n",
       " 'o',\n",
       " 'r',\n",
       " 'd',\n",
       " 'n',\n",
       " '-',\n",
       " 'w',\n",
       " 'o',\n",
       " 'r',\n",
       " 'd',\n",
       " 'no-way-ni']"
      ]
     },
     "execution_count": 82,
     "metadata": {},
     "output_type": "execute_result"
    }
   ],
   "source": [
    "list3"
   ]
  },
  {
   "cell_type": "code",
   "execution_count": 93,
   "metadata": {},
   "outputs": [
    {
     "data": {
      "text/plain": [
       "[1,\n",
       " 2,\n",
       " 'roti',\n",
       " 3,\n",
       " 'khajoor',\n",
       " 'rooh afzah',\n",
       " 'pakoray',\n",
       " 'Spaghetti Samosa',\n",
       " 'dahi bhallay',\n",
       " 'fruit chat',\n",
       " 'cream chat',\n",
       " 'channa chat',\n",
       " ['nuggets', 'fries', 'tang'],\n",
       " 'n',\n",
       " '-',\n",
       " 'w',\n",
       " 'o',\n",
       " 'r',\n",
       " 'd',\n",
       " 'n',\n",
       " '-',\n",
       " 'w',\n",
       " 'o',\n",
       " 'r',\n",
       " 'd',\n",
       " 'no-way-ni',\n",
       " 'r',\n",
       " 'e',\n",
       " 'a',\n",
       " 'l',\n",
       " 'real',\n",
       " 'r',\n",
       " 'e',\n",
       " 'a',\n",
       " 'l']"
      ]
     },
     "execution_count": 93,
     "metadata": {},
     "output_type": "execute_result"
    }
   ],
   "source": [
    "list3.extend(\"real\")\n",
    "list3"
   ]
  },
  {
   "cell_type": "code",
   "execution_count": 94,
   "metadata": {},
   "outputs": [],
   "source": [
    "list3.append(\"real\")"
   ]
  },
  {
   "cell_type": "code",
   "execution_count": 95,
   "metadata": {},
   "outputs": [
    {
     "name": "stdout",
     "output_type": "stream",
     "text": [
      "[1, 2, 'roti', 3, 'khajoor', 'rooh afzah', 'pakoray', 'Spaghetti Samosa', 'dahi bhallay', 'fruit chat', 'cream chat', 'channa chat', ['nuggets', 'fries', 'tang'], 'n', '-', 'w', 'o', 'r', 'd', 'n', '-', 'w', 'o', 'r', 'd', 'no-way-ni', 'r', 'e', 'a', 'l', 'real', 'r', 'e', 'a', 'l', 'real']\n"
     ]
    }
   ],
   "source": [
    "print(list3)"
   ]
  },
  {
   "cell_type": "code",
   "execution_count": null,
   "metadata": {},
   "outputs": [],
   "source": []
  }
 ],
 "metadata": {
  "kernelspec": {
   "display_name": "myenv",
   "language": "python",
   "name": "python3"
  },
  "language_info": {
   "codemirror_mode": {
    "name": "ipython",
    "version": 3
   },
   "file_extension": ".py",
   "mimetype": "text/x-python",
   "name": "python",
   "nbconvert_exporter": "python",
   "pygments_lexer": "ipython3",
   "version": "3.12.3"
  }
 },
 "nbformat": 4,
 "nbformat_minor": 2
}
