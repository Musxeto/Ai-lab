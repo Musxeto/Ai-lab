{
 "cells": [
  {
   "cell_type": "markdown",
   "metadata": {},
   "source": [
    "# DICTIONARIES:"
   ]
  },
  {
   "cell_type": "code",
   "execution_count": 2,
   "metadata": {},
   "outputs": [],
   "source": [
    "mustafa  = {\n",
    "    \"name\": \"Mustafa\",\n",
    "    \"age\": 19.9,\n",
    "    \"degree\": \"BSCS\",\n",
    "    \"year\": \"Junior\",\n",
    "    \"section\": \"E\",\n",
    "    \"semester\": 6,\n",
    "    \"gandu\": False\n",
    "}"
   ]
  },
  {
   "cell_type": "code",
   "execution_count": 5,
   "metadata": {},
   "outputs": [
    {
     "name": "stdout",
     "output_type": "stream",
     "text": [
      "NO\n"
     ]
    }
   ],
   "source": [
    "if mustafa[\"gandu\"]:\n",
    "    print(\"YES\")\n",
    "else:\n",
    "    print(\"NO\")"
   ]
  },
  {
   "cell_type": "code",
   "execution_count": 6,
   "metadata": {},
   "outputs": [],
   "source": [
    "ahsan  = {\n",
    "    \"name\": \"Ahsan\",\n",
    "    \"age\": 22,\n",
    "    \"degree\": \"BSCS\",\n",
    "    \"year\": \"Junior\",\n",
    "    \"section\": \"E\",\n",
    "    \"semester\": 6,\n",
    "    \"gandu\": True,\n",
    "}"
   ]
  }
 ],
 "metadata": {
  "kernelspec": {
   "display_name": "myenv",
   "language": "python",
   "name": "python3"
  },
  "language_info": {
   "codemirror_mode": {
    "name": "ipython",
    "version": 3
   },
   "file_extension": ".py",
   "mimetype": "text/x-python",
   "name": "python",
   "nbconvert_exporter": "python",
   "pygments_lexer": "ipython3",
   "version": "3.12.3"
  }
 },
 "nbformat": 4,
 "nbformat_minor": 2
}
