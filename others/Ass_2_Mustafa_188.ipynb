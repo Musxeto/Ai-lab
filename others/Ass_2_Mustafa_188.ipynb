{
 "cells": [
  {
   "cell_type": "markdown",
   "id": "2aaa1918",
   "metadata": {},
   "source": [
    "## Assignment - 2\n",
    "### NUMERICAL COMPUTING\n",
    "_________________________________\n",
    "#### Name: Ghulam Mustafa\n",
    "#### Roll No: FA22/BSCS/188\n",
    "#### Section: E\n",
    "_________________________________"
   ]
  },
  {
   "cell_type": "markdown",
   "id": "c348ce7a",
   "metadata": {},
   "source": [
    "        imports"
   ]
  },
  {
   "cell_type": "code",
   "execution_count": 1,
   "id": "2200dc08",
   "metadata": {},
   "outputs": [],
   "source": [
    "import numpy as np\n",
    "import matplotlib.pyplot as plt"
   ]
  },
  {
   "cell_type": "markdown",
   "id": "9af9e1dd",
   "metadata": {},
   "source": [
    "## General Codes:"
   ]
  },
  {
   "cell_type": "markdown",
   "id": "7b47abad",
   "metadata": {},
   "source": [
    "###   Bisection Method"
   ]
  },
  {
   "cell_type": "code",
   "execution_count": 2,
   "id": "6b1f40fe",
   "metadata": {},
   "outputs": [],
   "source": [
    "def bisection_method(f, a, b, tol=1e-6, max_iter=100):\n",
    "    steps = []\n",
    "    for i in range(max_iter):\n",
    "        c = (a + b) / 2\n",
    "        steps.append(c)\n",
    "        if abs(f(c)) < tol or (b - a)/2 < tol:\n",
    "            return c, i + 1, steps\n",
    "        if f(a) * f(c) < 0:\n",
    "            b = c\n",
    "        else:\n",
    "            a = c\n",
    "    return c, max_iter, steps"
   ]
  },
  {
   "cell_type": "markdown",
   "id": "d12b1bc4",
   "metadata": {},
   "source": [
    "### Newton Raphson Method"
   ]
  },
  {
   "cell_type": "code",
   "execution_count": 3,
   "id": "499d350e",
   "metadata": {},
   "outputs": [],
   "source": [
    "def newton_raphson_method(f, df, x0, tol=1e-6, max_iter=100):\n",
    "    steps = [x0]\n",
    "    for i in range(max_iter):\n",
    "        if df(x0) == 0:\n",
    "            raise ZeroDivisionError(\"Derivative is zero.\")\n",
    "        x1 = x0 - f(x0) / df(x0)\n",
    "        steps.append(x1)\n",
    "        if abs(x1 - x0) < tol:\n",
    "            return x1, i + 1, steps\n",
    "        x0 = x1"
   ]
  },
  {
   "cell_type": "markdown",
   "id": "0ae1ece3",
   "metadata": {},
   "source": [
    "### Secant Method"
   ]
  },
  {
   "cell_type": "code",
   "execution_count": 4,
   "id": "6147867f",
   "metadata": {},
   "outputs": [],
   "source": [
    "def secant_method(f, x0, x1, tol=1e-6, max_iter=100):\n",
    "    steps = [x0, x1]\n",
    "    for i in range(max_iter):\n",
    "        if f(x1) - f(x0) == 0:\n",
    "            raise ZeroDivisionError(\"Denominator became zero.\")\n",
    "        x2 = x1 - f(x1) * (x1 - x0) / (f(x1) - f(x0))\n",
    "        steps.append(x2)\n",
    "        if abs(x2 - x1) < tol:\n",
    "            return x2, i + 1, steps\n",
    "        x0, x1 = x1, x2\n",
    "    return x2, max_iter, steps"
   ]
  },
  {
   "cell_type": "markdown",
   "id": "ab9703ec",
   "metadata": {},
   "source": [
    "### Secant Method"
   ]
  },
  {
   "cell_type": "code",
   "execution_count": 5,
   "id": "c5d148e4",
   "metadata": {},
   "outputs": [],
   "source": [
    "def fixed_point_iteration(g, x0, tol=1e-6, max_iter=100):\n",
    "    steps = [x0]\n",
    "    for i in range(max_iter):\n",
    "        x1 = g(x0)\n",
    "        steps.append(x1)\n",
    "        if abs(x1 - x0) < tol:\n",
    "            return x1, i + 1, steps\n",
    "        x0 = x1\n",
    "    return x1, max_iter, steps"
   ]
  },
  {
   "cell_type": "markdown",
   "id": "f1a64a86",
   "metadata": {},
   "source": [
    "_________________________________________"
   ]
  },
  {
   "cell_type": "markdown",
   "id": "49b2abfc",
   "metadata": {},
   "source": [
    "##  f(x) = x^3 - x - 2"
   ]
  },
  {
   "cell_type": "markdown",
   "id": "8c90e530",
   "metadata": {},
   "source": [
    "        Helping FUnctions"
   ]
  },
  {
   "cell_type": "code",
   "execution_count": 9,
   "id": "3c8fe078",
   "metadata": {},
   "outputs": [],
   "source": [
    "def f(x): return x**3 - x - 2\n",
    "def df(x): return 3 * x**2 - 1\n",
    "def g(x): return (x + 2) ** (1/3)"
   ]
  },
  {
   "cell_type": "code",
   "execution_count": 22,
   "id": "2c42d1ed",
   "metadata": {},
   "outputs": [],
   "source": [
    "def print_table(method, steps):\n",
    "    print(f\"\\n--- {method} Iteration Table ---\")\n",
    "    print(f\"{'Iter':<6} {'x':<12} {'f(x)':<12}\")\n",
    "    print(\"-\" * 32)\n",
    "    for i, x in enumerate(steps):\n",
    "        print(f\"{i:<6} {x:<12.4f} {f(x):<12.4f}\")"
   ]
  },
  {
   "cell_type": "markdown",
   "id": "3b76ea29",
   "metadata": {},
   "source": [
    "_________"
   ]
  },
  {
   "cell_type": "markdown",
   "id": "d53e27a9",
   "metadata": {},
   "source": [
    "\n",
    "### Bisection Method"
   ]
  },
  {
   "cell_type": "code",
   "execution_count": 23,
   "id": "4e3e9482",
   "metadata": {},
   "outputs": [],
   "source": [
    "def bisection(a, b, tol=1e-6, max_iter=100):\n",
    "    steps = []\n",
    "    for i in range(max_iter):\n",
    "        c = (a + b) / 2\n",
    "        steps.append(c)\n",
    "        if abs(f(c)) < tol:\n",
    "            break\n",
    "        if f(a) * f(c) < 0:\n",
    "            b = c\n",
    "        else:\n",
    "            a = c\n",
    "    return c, i+1, steps"
   ]
  },
  {
   "cell_type": "code",
   "execution_count": 24,
   "id": "d9697cad",
   "metadata": {},
   "outputs": [
    {
     "name": "stdout",
     "output_type": "stream",
     "text": [
      "\n",
      "Bisection Method:\n",
      "  Root = 1.5214\n",
      "  Iterations = 22\n",
      "\n",
      "--- Bisection Iteration Table ---\n",
      "Iter   x            f(x)        \n",
      "--------------------------------\n",
      "0      1.5000       -0.1250     \n",
      "1      1.7500       1.6094      \n",
      "2      1.6250       0.6660      \n",
      "3      1.5625       0.2522      \n",
      "4      1.5312       0.0591      \n",
      "5      1.5156       -0.0341     \n",
      "6      1.5234       0.0123      \n",
      "7      1.5195       -0.0110     \n",
      "8      1.5215       0.0006      \n",
      "9      1.5205       -0.0052     \n",
      "10     1.5210       -0.0023     \n",
      "11     1.5212       -0.0008     \n",
      "12     1.5214       -0.0001     \n",
      "13     1.5214       0.0003      \n",
      "14     1.5214       0.0001      \n",
      "15     1.5214       -0.0000     \n",
      "16     1.5214       0.0000      \n",
      "17     1.5214       0.0000      \n",
      "18     1.5214       -0.0000     \n",
      "19     1.5214       0.0000      \n",
      "20     1.5214       0.0000      \n",
      "21     1.5214       0.0000      \n"
     ]
    }
   ],
   "source": [
    "b_root, b_iters, b_steps = bisection(1, 2)\n",
    "print(f\"\\nBisection Method:\\n  Root = {b_root:.4f}\\n  Iterations = {b_iters}\")\n",
    "print_table(\"Bisection\", b_steps)"
   ]
  },
  {
   "cell_type": "markdown",
   "id": "e3937247",
   "metadata": {},
   "source": [
    "### Newton-Raphson Method"
   ]
  },
  {
   "cell_type": "code",
   "execution_count": null,
   "id": "14ed3c36",
   "metadata": {},
   "outputs": [],
   "source": [
    "def newton_raphson(x0, tol=1e-6, max_iter=100):\n",
    "    steps = [x0]\n",
    "    for i in range(max_iter):\n",
    "        if df(x0) == 0: break\n",
    "        x1 = x0 - f(x0) / df(x0)\n",
    "        steps.append(x1)\n",
    "        if abs(x1 - x0) < tol:\n",
    "            break\n",
    "        x0 = x1\n",
    "    return x1, i+1, steps"
   ]
  },
  {
   "cell_type": "code",
   "execution_count": 25,
   "id": "a87607f2",
   "metadata": {},
   "outputs": [
    {
     "name": "stdout",
     "output_type": "stream",
     "text": [
      "\n",
      "Newton-Raphson Method:\n",
      "  Root = 1.5214\n",
      "  Iterations = 3\n",
      "\n",
      "--- Newton-Raphson Iteration Table ---\n",
      "Iter   x            f(x)        \n",
      "--------------------------------\n",
      "0      1.5000       -0.1250     \n",
      "1      1.5217       0.0021      \n",
      "2      1.5214       0.0000      \n",
      "3      1.5214       0.0000      \n"
     ]
    }
   ],
   "source": [
    "n_root, n_iters, n_steps = newton_raphson(1.5)\n",
    "print(f\"\\nNewton-Raphson Method:\\n  Root = {n_root:.4f}\\n  Iterations = {n_iters}\")\n",
    "print_table(\"Newton-Raphson\", n_steps)\n"
   ]
  },
  {
   "cell_type": "markdown",
   "id": "ecde2c8a",
   "metadata": {},
   "source": [
    "### Secant Method"
   ]
  },
  {
   "cell_type": "code",
   "execution_count": 16,
   "id": "328b6784",
   "metadata": {},
   "outputs": [],
   "source": [
    "def secant(x0, x1, tol=1e-6, max_iter=100):\n",
    "    steps = [x0, x1]\n",
    "    for i in range(max_iter):\n",
    "        if f(x1) - f(x0) == 0: break\n",
    "        x2 = x1 - f(x1) * (x1 - x0) / (f(x1) - f(x0))\n",
    "        steps.append(x2)\n",
    "        if abs(x2 - x1) < tol:\n",
    "            break\n",
    "        x0, x1 = x1, x2\n",
    "    return x2, i+1, steps\n"
   ]
  },
  {
   "cell_type": "code",
   "execution_count": 26,
   "id": "e6527fbb",
   "metadata": {},
   "outputs": [
    {
     "name": "stdout",
     "output_type": "stream",
     "text": [
      "\n",
      "Secant Method:\n",
      "  Root = 1.5214\n",
      "  Iterations = 7\n",
      "\n",
      "--- Secant Iteration Table ---\n",
      "Iter   x            f(x)        \n",
      "--------------------------------\n",
      "0      1.0000       -2.0000     \n",
      "1      2.0000       4.0000      \n",
      "2      1.3333       -0.9630     \n",
      "3      1.4627       -0.3333     \n",
      "4      1.5312       0.0586      \n",
      "5      1.5209       -0.0027     \n",
      "6      1.5214       -0.0000     \n",
      "7      1.5214       0.0000      \n",
      "8      1.5214       -0.0000     \n"
     ]
    }
   ],
   "source": [
    "s_root, s_iters, s_steps = secant(1, 2)\n",
    "print(f\"\\nSecant Method:\\n  Root = {s_root:.4f}\\n  Iterations = {s_iters}\")\n",
    "print_table(\"Secant\", s_steps)\n"
   ]
  },
  {
   "cell_type": "markdown",
   "id": "9a4ee1bc",
   "metadata": {},
   "source": [
    "### Fixed-Point Iteration"
   ]
  },
  {
   "cell_type": "code",
   "execution_count": 17,
   "id": "c22be51f",
   "metadata": {},
   "outputs": [],
   "source": [
    "def fixed_point(x0, tol=1e-6, max_iter=100):\n",
    "    steps = [x0]\n",
    "    for i in range(max_iter):\n",
    "        x1 = g(x0)\n",
    "        steps.append(x1)\n",
    "        if abs(x1 - x0) < tol:\n",
    "            break\n",
    "        x0 = x1\n",
    "    return x1, i+1, steps"
   ]
  },
  {
   "cell_type": "code",
   "execution_count": 27,
   "id": "d196b4bf",
   "metadata": {},
   "outputs": [
    {
     "name": "stdout",
     "output_type": "stream",
     "text": [
      "\n",
      "Fixed-Point Iteration:\n",
      "  Root = 1.5214\n",
      "  Iterations = 7\n",
      "\n",
      "--- Fixed-Point Iteration Table ---\n",
      "Iter   x            f(x)        \n",
      "--------------------------------\n",
      "0      1.5000       -0.1250     \n",
      "1      1.5183       -0.0183     \n",
      "2      1.5209       -0.0026     \n",
      "3      1.5213       -0.0004     \n",
      "4      1.5214       -0.0001     \n",
      "5      1.5214       -0.0000     \n",
      "6      1.5214       -0.0000     \n",
      "7      1.5214       -0.0000     \n"
     ]
    }
   ],
   "source": [
    "f_root, f_iters, f_steps = fixed_point(1.5)\n",
    "print(f\"\\nFixed-Point Iteration:\\n  Root = {f_root:.4f}\\n  Iterations = {f_iters}\")\n",
    "print_table(\"Fixed-Point\", f_steps)"
   ]
  },
  {
   "cell_type": "code",
   "execution_count": 30,
   "id": "68a40e68",
   "metadata": {},
   "outputs": [],
   "source": [
    "def plot_fixed_point(steps):\n",
    "    x_vals = np.linspace(1.4, 1.55, 400)\n",
    "    plt.plot(x_vals, g(x_vals), label='g(x)', color='blue')\n",
    "    plt.plot(x_vals, x_vals, label='y = x', linestyle='--', color='gray')\n",
    "    \n",
    "    x_points = steps[:-1]\n",
    "    y_points = steps[1:]\n",
    "\n",
    "    for i in range(len(x_points)):\n",
    "        plt.plot([x_points[i], x_points[i]], [x_points[i], y_points[i]], color='red')\n",
    "        plt.plot([x_points[i], y_points[i]], [y_points[i], y_points[i]], color='red')\n",
    "\n",
    "    plt.scatter(steps, steps, color='black')\n",
    "    plt.title('Fixed-Point Iteration Visualization')\n",
    "    plt.xlabel('x')\n",
    "    plt.ylabel('g(x)')\n",
    "    plt.grid(True)\n",
    "    plt.legend()\n",
    "    plt.show()\n"
   ]
  },
  {
   "cell_type": "code",
   "execution_count": 31,
   "id": "17950782",
   "metadata": {},
   "outputs": [
    {
     "data": {
      "image/png": "[encoded data removed]",
      "text/plain": [
       "<Figure size 640x480 with 1 Axes>"
      ]
     },
     "metadata": {},
     "output_type": "display_data"
    }
   ],
   "source": [
    "plot_fixed_point(f_steps)"
   ]
  }
 ],
 "metadata": {
  "kernelspec": {
   "display_name": "myenv",
   "language": "python",
   "name": "python3"
  },
  "language_info": {
   "codemirror_mode": {
    "name": "ipython",
    "version": 3
   },
   "file_extension": ".py",
   "mimetype": "text/x-python",
   "name": "python",
   "nbconvert_exporter": "python",
   "pygments_lexer": "ipython3",
   "version": "3.12.3"
  }
 },
 "nbformat": 4,
 "nbformat_minor": 5
}
