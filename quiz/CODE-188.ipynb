{
 "cells": [
  {
   "cell_type": "code",
   "execution_count": 1,
   "id": "121a678e",
   "metadata": {},
   "outputs": [],
   "source": [
    "import numpy as np\n",
    "\n",
    "def f(theta):\n",
    "    return theta * np.cos(theta) - theta\n",
    "\n",
    "def df(theta):\n",
    "    return np.cos(theta) - theta * np.sin(theta) - 1\n",
    "\n",
    "def g(theta):\n",
    "    return np.cos(theta)\n",
    "\n",
    "# Regula Falsi Method\n",
    "def regula_falsi(a, b, tol=1e-6, max_iter=100):\n",
    "    iterations = []\n",
    "    \n",
    "    if f(a) * f(b) >= 0:\n",
    "        print(\"Regula Falsi method requires f(a) and f(b) to have opposite signs.\")\n",
    "        return None, iterations\n",
    "    \n",
    "    c = a\n",
    "    for i in range(max_iter):\n",
    "        c_old = c\n",
    "        c = (a * f(b) - b * f(a)) / (f(b) - f(a))\n",
    "        iterations.append((i+1, c, f(c)))\n",
    "        \n",
    "        if abs(c - c_old) < tol:\n",
    "            break\n",
    "            \n",
    "        if f(c) * f(a) < 0:\n",
    "            b = c\n",
    "        else:\n",
    "            a = c\n",
    "            \n",
    "    return c, iterations\n",
    "\n",
    "# Newton-Raphson Method\n",
    "def newton_raphson(x0, tol=1e-6, max_iter=100):\n",
    "    iterations = []\n",
    "    \n",
    "    x = x0\n",
    "    for i in range(max_iter):\n",
    "        fx = f(x)\n",
    "        iterations.append((i+1, x, fx))\n",
    "        \n",
    "        if abs(fx) < tol:\n",
    "            break\n",
    "            \n",
    "        dfx = df(x)\n",
    "        if abs(dfx) < 1e-10:  # Avoid division by near-zero\n",
    "            print(\"Derivative too close to zero.\")\n",
    "            break\n",
    "            \n",
    "        x_new = x - fx / dfx\n",
    "        if abs(x_new - x) < tol:\n",
    "            x = x_new\n",
    "            iterations.append((i+2, x, f(x)))\n",
    "            break\n",
    "            \n",
    "        x = x_new\n",
    "        \n",
    "    return x, iterations\n",
    "\n",
    "# Fixed-Point Method\n",
    "def fixed_point(x0, tol=1e-6, max_iter=100):\n",
    "    iterations = []\n",
    "    \n",
    "    x = x0\n",
    "    for i in range(max_iter):\n",
    "        iterations.append((i+1, x, f(x)))\n",
    "        \n",
    "        x_new = g(x)\n",
    "        if abs(x_new - x) < tol:\n",
    "            x = x_new\n",
    "            iterations.append((i+2, x, f(x)))\n",
    "            break\n",
    "            \n",
    "        x = x_new\n",
    "        \n",
    "    return x, iterations"
   ]
  },
  {
   "cell_type": "code",
   "execution_count": 2,
   "id": "77705d1b",
   "metadata": {},
   "outputs": [
    {
     "name": "stdout",
     "output_type": "stream",
     "text": [
      "NUMERICAL METHODS RESULTS:\n",
      "\n",
      "REGULA FALSI METHOD:\n",
      "Root: -0.0\n",
      "Iterations:\n",
      "Iteration 1: x = -0.0000000000, f(x) = 0.0000000000e+00\n",
      "Iteration 2: x = -0.0000000000, f(x) = 0.0000000000e+00\n",
      "\n"
     ]
    }
   ],
   "source": [
    "\n",
    "print(\"NUMERICAL METHODS RESULTS:\\n\")\n",
    "\n",
    "print(\"REGULA FALSI METHOD:\")\n",
    "a, b = -0.5, 0.5  \n",
    "root_rf, iter_rf = regula_falsi(a, b)\n",
    "print(f\"Root: {root_rf}\")\n",
    "print(\"Iterations:\")\n",
    "for iter_num, x, fx in iter_rf:\n",
    "    print(f\"Iteration {iter_num}: x = {x:.10f}, f(x) = {fx:.10e}\")\n",
    "print()"
   ]
  },
  {
   "cell_type": "code",
   "execution_count": 3,
   "id": "bbaa6371",
   "metadata": {},
   "outputs": [
    {
     "name": "stdout",
     "output_type": "stream",
     "text": [
      "NEWTON-RAPHSON METHOD:\n",
      "Root: 0.008562298316314013\n",
      "Iterations:\n",
      "Iteration 1: x = 0.5000000000, f(x) = -6.1208719055e-02\n",
      "Iteration 2: x = 0.3309759368, f(x) = -1.7963504656e-02\n",
      "Iteration 3: x = 0.2199738473, f(x) = -5.3006754187e-03\n",
      "Iteration 4: x = 0.1464514253, f(x) = -1.5677414617e-03\n",
      "Iteration 5: x = 0.0975760249, f(x) = -4.6414616099e-04\n",
      "Iteration 6: x = 0.0650334672, f(x) = -1.3747624437e-04\n",
      "Iteration 7: x = 0.0433505497, f(x) = -4.0727318575e-05\n",
      "Iteration 8: x = 0.0288988576, f(x) = -1.2066513567e-05\n",
      "Iteration 9: x = 0.0192654581, f(x) = -3.5751526822e-06\n",
      "Iteration 10: x = 0.0128435063, f(x) = -1.0592899360e-06\n",
      "Iteration 11: x = 0.0085622983, f(x) = -3.1386176718e-07\n",
      "\n"
     ]
    }
   ],
   "source": [
    "print(\"NEWTON-RAPHSON METHOD:\")\n",
    "x0 = 0.5  \n",
    "root_nr, iter_nr = newton_raphson(x0)\n",
    "print(f\"Root: {root_nr}\")\n",
    "print(\"Iterations:\")\n",
    "for iter_num, x, fx in iter_nr:\n",
    "    print(f\"Iteration {iter_num}: x = {x:.10f}, f(x) = {fx:.10e}\")\n",
    "print()"
   ]
  },
  {
   "cell_type": "code",
   "execution_count": 4,
   "id": "ecbdf34a",
   "metadata": {},
   "outputs": [
    {
     "name": "stdout",
     "output_type": "stream",
     "text": [
      "FIXED-POINT METHOD:\n",
      "Root: 0.7390848229131413\n",
      "Iterations:\n",
      "Iteration 1: x = 0.5000000000, f(x) = -6.1208719055e-02\n",
      "Iteration 2: x = 0.8775825619, f(x) = -3.1679634018e-01\n",
      "Iteration 3: x = 0.6390124942, f(x) = -1.2608668595e-01\n",
      "Iteration 4: x = 0.8026851007, f(x) = -2.4499713030e-01\n",
      "Iteration 5: x = 0.6947780268, f(x) = -1.6105244294e-01\n",
      "Iteration 6: x = 0.7681958313, f(x) = -2.1573593371e-01\n",
      "Iteration 7: x = 0.7191654459, f(x) = -1.7809718071e-01\n",
      "Iteration 8: x = 0.7523557594, f(x) = -2.0307506673e-01\n",
      "Iteration 9: x = 0.7300810631, f(x) = -1.8608281216e-01\n",
      "Iteration 10: x = 0.7451203414, f(x) = -1.9745218948e-01\n",
      "Iteration 11: x = 0.7350063090, f(x) = -1.8975913468e-01\n",
      "Iteration 12: x = 0.7418265226, f(x) = -1.9492550807e-01\n",
      "Iteration 13: x = 0.7372357254, f(x) = -1.9143825747e-01\n",
      "Iteration 14: x = 0.7403296519, f(x) = -1.9378407125e-01\n",
      "Iteration 15: x = 0.7382462383, f(x) = -1.9220243563e-01\n",
      "Iteration 16: x = 0.7396499628, f(x) = -1.9326717774e-01\n",
      "Iteration 17: x = 0.7387045394, f(x) = -1.9254965242e-01\n",
      "Iteration 18: x = 0.7393414523, f(x) = -1.9303284888e-01\n",
      "Iteration 19: x = 0.7389124493, f(x) = -1.9270729970e-01\n",
      "Iteration 20: x = 0.7392014441, f(x) = -1.9292656530e-01\n",
      "Iteration 21: x = 0.7390067798, f(x) = -1.9277885253e-01\n",
      "Iteration 22: x = 0.7391379108, f(x) = -1.9287834781e-01\n",
      "Iteration 23: x = 0.7390495806, f(x) = -1.9281132396e-01\n",
      "Iteration 24: x = 0.7391090814, f(x) = -1.9285647083e-01\n",
      "Iteration 25: x = 0.7390690012, f(x) = -1.9282605881e-01\n",
      "Iteration 26: x = 0.7390959998, f(x) = -1.9284654447e-01\n",
      "Iteration 27: x = 0.7390778133, f(x) = -1.9283274497e-01\n",
      "Iteration 28: x = 0.7390900640, f(x) = -1.9284204043e-01\n",
      "Iteration 29: x = 0.7390818118, f(x) = -1.9283577887e-01\n",
      "Iteration 30: x = 0.7390873706, f(x) = -1.9283999672e-01\n",
      "Iteration 31: x = 0.7390836261, f(x) = -1.9283715552e-01\n",
      "Iteration 32: x = 0.7390861484, f(x) = -1.9283906939e-01\n",
      "Iteration 33: x = 0.7390844494, f(x) = -1.9283778019e-01\n",
      "Iteration 34: x = 0.7390855939, f(x) = -1.9283864861e-01\n",
      "Iteration 35: x = 0.7390848229, f(x) = -1.9283806363e-01\n",
      "\n"
     ]
    }
   ],
   "source": [
    "print(\"FIXED-POINT METHOD:\")\n",
    "x0 = 0.5  \n",
    "root_fp, iter_fp = fixed_point(x0)\n",
    "print(f\"Root: {root_fp}\")\n",
    "print(\"Iterations:\")\n",
    "for iter_num, x, fx in iter_fp:\n",
    "    print(f\"Iteration {iter_num}: x = {x:.10f}, f(x) = {fx:.10e}\")\n",
    "print()"
   ]
  },
  {
   "cell_type": "code",
   "execution_count": 5,
   "id": "f4147d63",
   "metadata": {},
   "outputs": [
    {
     "name": "stdout",
     "output_type": "stream",
     "text": [
      "SUMMARY OF RESULTS:\n",
      "Regula Falsi: Root = -0.0000000000 in 2 iterations\n",
      "Newton-Raphson: Root = 0.0085622983 in 11 iterations\n",
      "Fixed-Point: Root = 0.7390848229 in 35 iterations\n",
      "Note: Fixed-Point method converged to 0.7390848229, which is not a true root of the original equation.\n"
     ]
    }
   ],
   "source": [
    "print(\"SUMMARY OF RESULTS:\")\n",
    "print(f\"Regula Falsi: Root = {root_rf:.10f} in {len(iter_rf)} iterations\")\n",
    "print(f\"Newton-Raphson: Root = {root_nr:.10f} in {len(iter_nr)} iterations\")\n",
    "print(f\"Fixed-Point: Root = {root_fp:.10f} in {len(iter_fp)} iterations\")\n",
    "print(f\"Note: Fixed-Point method converged to {root_fp:.10f}, which is not a true root of the original equation.\")"
   ]
  },
  {
   "cell_type": "code",
   "execution_count": null,
   "id": "55f13872",
   "metadata": {},
   "outputs": [],
   "source": []
  }
 ],
 "metadata": {
  "kernelspec": {
   "display_name": "myenv",
   "language": "python",
   "name": "python3"
  },
  "language_info": {
   "codemirror_mode": {
    "name": "ipython",
    "version": 3
   },
   "file_extension": ".py",
   "mimetype": "text/x-python",
   "name": "python",
   "nbconvert_exporter": "python",
   "pygments_lexer": "ipython3",
   "version": "3.12.3"
  }
 },
 "nbformat": 4,
 "nbformat_minor": 5
}
