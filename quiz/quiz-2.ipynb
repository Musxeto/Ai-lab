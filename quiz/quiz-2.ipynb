{
 "cells": [
  {
   "cell_type": "markdown",
   "id": "6849a8f0",
   "metadata": {},
   "source": [
    "### Name:       Ghulam Mustafa\n",
    "### Roll:       FA22-BSCS-188\n",
    "### Section:    E\n",
    "____________________________________\n",
    "# QUIZ - 2\n",
    "# AI LAB"
   ]
  },
  {
   "cell_type": "markdown",
   "id": "afb03657",
   "metadata": {},
   "source": [
    "______________"
   ]
  },
  {
   "cell_type": "code",
   "execution_count": null,
   "id": "89f04e26",
   "metadata": {},
   "outputs": [],
   "source": []
  }
 ],
 "metadata": {
  "kernelspec": {
   "display_name": "myenv",
   "language": "python",
   "name": "python3"
  },
  "language_info": {
   "codemirror_mode": {
    "name": "ipython",
    "version": 3
   },
   "file_extension": ".py",
   "mimetype": "text/x-python",
   "name": "python",
   "nbconvert_exporter": "python",
   "pygments_lexer": "ipython3",
   "version": "3.12.3"
  }
 },
 "nbformat": 4,
 "nbformat_minor": 5
}
