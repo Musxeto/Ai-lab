{
 "cells": [
  {
   "cell_type": "markdown",
   "id": "6849a8f0",
   "metadata": {},
   "source": [
    "### Name:       Ghulam Mustafa\n",
    "### Roll:       FA22-BSCS-188\n",
    "### Section:    E\n",
    "____________________________________\n",
    "# QUIZ - 2\n",
    "# AI LAB\n",
    "### Group 2"
   ]
  },
  {
   "cell_type": "markdown",
   "id": "afb03657",
   "metadata": {},
   "source": [
    "______________"
   ]
  },
  {
   "cell_type": "markdown",
   "id": "89f04e26",
   "metadata": {},
   "source": [
    "1. Pre Define decitory with 10 items"
   ]
  },
  {
   "cell_type": "code",
   "execution_count": 8,
   "id": "4b4f8268",
   "metadata": {},
   "outputs": [],
   "source": [
    "items = {\n",
    "    'lifebouy': 10,\n",
    "    'dettol': 20,\n",
    "    'tezaab': 30,\n",
    "    'cocomo': 30,\n",
    "    'lays': 10,\n",
    "    'kurkure': 80,\n",
    "    'cupcake': 70,\n",
    "    'donut': 80,\n",
    "    'pepsi': 90,\n",
    "    'colanext': 90\n",
    "}"
   ]
  },
  {
   "cell_type": "markdown",
   "id": "5adac92f",
   "metadata": {},
   "source": [
    "2. program"
   ]
  },
  {
   "cell_type": "code",
   "execution_count": null,
   "id": "089118d5",
   "metadata": {},
   "outputs": [
    {
     "name": "stdout",
     "output_type": "stream",
     "text": [
      "Welcome to the shopping cart!\n",
      "Please enter the item you want to buy (or type 'checkout' to finish):\n",
      "Adding cupcake to your cart.\n",
      "Adding cupcake to your cart.\n"
     ]
    },
    {
     "ename": "TypeError",
     "evalue": "list indices must be integers or slices, not str",
     "output_type": "error",
     "traceback": [
      "\u001b[31m---------------------------------------------------------------------------\u001b[39m",
      "\u001b[31mTypeError\u001b[39m                                 Traceback (most recent call last)",
      "\u001b[36mCell\u001b[39m\u001b[36m \u001b[39m\u001b[32mIn[9]\u001b[39m\u001b[32m, line 11\u001b[39m\n\u001b[32m      9\u001b[39m \u001b[38;5;28;01mif\u001b[39;00m userInput \u001b[38;5;129;01min\u001b[39;00m items:\n\u001b[32m     10\u001b[39m     \u001b[38;5;28mprint\u001b[39m(\u001b[33mf\u001b[39m\u001b[33m\"\u001b[39m\u001b[33mAdding \u001b[39m\u001b[38;5;132;01m{\u001b[39;00muserInput\u001b[38;5;132;01m}\u001b[39;00m\u001b[33m to your cart.\u001b[39m\u001b[33m\"\u001b[39m)\n\u001b[32m---> \u001b[39m\u001b[32m11\u001b[39m     \u001b[43mcart\u001b[49m\u001b[43m[\u001b[49m\u001b[43muserInput\u001b[49m\u001b[43m]\u001b[49m = items[userInput]\n\u001b[32m     12\u001b[39m     total += items[userInput]\n\u001b[32m     13\u001b[39m     \u001b[38;5;28;01mif\u001b[39;00m \u001b[38;5;28mlen\u001b[39m(cart) > \u001b[32m3\u001b[39m:\n",
      "\u001b[31mTypeError\u001b[39m: list indices must be integers or slices, not str"
     ]
    }
   ],
   "source": [
    "userInput = ''\n",
    "total = 0\n",
    "cart = {}\n",
    "print(\"Welcome to the shopping cart!\")\n",
    "while (userInput != 'checkout'):\n",
    "    print(\"Please enter the item you want to buy (or type 'checkout' to finish):\")\n",
    "    userInput = input().lower()\n",
    "\n",
    "    if userInput in items:\n",
    "        print(f\"Adding {userInput} to your cart.\")\n",
    "        cart[userInput] = items[userInput]\n",
    "        total += items[userInput]\n",
    "        if len(cart) > 3:\n",
    "            print(\"Applying discount: 5% off on each item.\")\n",
    "            for item in cart:\n",
    "                cart[item] = cart[item] * 0.95\n",
    "        if sum(cart.values()) > 1000:\n",
    "            print(\"Applying discount: 10% off on total.\")\n",
    "            total = sum(cart.values())\n",
    "            total = total * 0.90\n",
    "            print(f\"Your total after discount is: {total}\")\n",
    "        print(f\"Your cart now contains: {cart}\")\n",
    "\n",
    "    elif userInput == 'checkout':\n",
    "        for item, price in cart.items() :\n",
    "            if item in items:\n",
    "                print(f\"{item}: {price}\")\n",
    "                print(f\" Discounted Price: {price}\")\n",
    "        print(f\"Your total is: {total}\")\n",
    "        print(\"Most Expensive item in your cart:\")\n",
    "        most_expensive_item = max(cart, key=cart.get)\n",
    "        print(f\"{most_expensive_item}: {cart[most_expensive_item]}\")\n",
    "        print(\"Thank you for shopping with us!\")\n",
    "        print(\"Checking out...\")\n",
    "    else:\n",
    "        print(f\"Sorry, we don't have {userInput}. Please try again.\")\n"
   ]
  },
  {
   "cell_type": "code",
   "execution_count": null,
   "id": "346d41f7",
   "metadata": {},
   "outputs": [],
   "source": []
  }
 ],
 "metadata": {
  "kernelspec": {
   "display_name": "myenv",
   "language": "python",
   "name": "python3"
  },
  "language_info": {
   "codemirror_mode": {
    "name": "ipython",
    "version": 3
   },
   "file_extension": ".py",
   "mimetype": "text/x-python",
   "name": "python",
   "nbconvert_exporter": "python",
   "pygments_lexer": "ipython3",
   "version": "3.12.3"
  }
 },
 "nbformat": 4,
 "nbformat_minor": 5
}
